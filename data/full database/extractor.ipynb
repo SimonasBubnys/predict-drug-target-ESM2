{
 "cells": [
  {
   "cell_type": "code",
   "execution_count": 1,
   "metadata": {},
   "outputs": [
    {
     "name": "stdout",
     "output_type": "stream",
     "text": [
      "^C\n"
     ]
    }
   ],
   "source": [
    "! pip install pandas lxml"
   ]
  },
  {
   "cell_type": "code",
   "execution_count": 9,
   "metadata": {},
   "outputs": [],
   "source": [
    "import pandas as pd\n",
    "import lxml.etree as ET"
   ]
  },
  {
   "cell_type": "code",
   "execution_count": 16,
   "metadata": {},
   "outputs": [],
   "source": [
    "def parse_drugbank_xml(xml_file_path):\n",
    "    tree = ET.parse(xml_file_path)\n",
    "    root = tree.getroot()\n",
    "\n",
    "    ns = {'db': 'http://www.drugbank.ca'}\n",
    "\n",
    "    drugs = []\n",
    "    atc_codes = []\n",
    "\n",
    "    for drug in root.findall('db:drug', ns):\n",
    "        drug_name = drug.find('db:name', ns).text if drug.find('db:name', ns) is not None else 'No Name'\n",
    "        \n",
    "        atc_code_elements = drug.findall('db:atc-codes/db:atc-code', ns)\n",
    "        codes = [code.get('code') for code in atc_code_elements] if atc_code_elements else ['No ATC Code']\n",
    "\n",
    "        drugs.append(drug_name)\n",
    "        atc_codes.append(', '.join(codes))\n",
    "    \n",
    "    return pd.DataFrame({'Drug': drugs, 'ATC Codes': atc_codes})"
   ]
  },
  {
   "cell_type": "code",
   "execution_count": 4,
   "metadata": {},
   "outputs": [],
   "source": [
    "def parse_drugbank_xml(xml_file_path):\n",
    "    tree = ET.parse(xml_file_path)\n",
    "    root = tree.getroot()\n",
    "\n",
    "    ns = {'db': 'http://www.drugbank.ca'}\n",
    "\n",
    "    drugs = []\n",
    "    atc_codes = []\n",
    "    drugbank_ids = []\n",
    "    pathways = []\n",
    "\n",
    "    for drug in root.findall('db:drug', ns):\n",
    "        drug_name = drug.find('db:name', ns).text if drug.find('db:name', ns) is not None else 'No Name'\n",
    "        drugbank_id = drug.find('db:drugbank-id', ns).text if drug.find('db:drugbank-id', ns) is not None else 'No ID'\n",
    "        \n",
    "        atc_code_elements = drug.findall('db:atc-codes/db:atc-code', ns)\n",
    "        codes = [code.get('code') for code in atc_code_elements] if atc_code_elements else ['No ATC Code']\n",
    "        \n",
    "        pathway_elements = drug.findall('db:pathways/db:pathway/db:name', ns)\n",
    "        drug_pathways = [pathway.text for pathway in pathway_elements] if pathway_elements else ['No Pathways']\n",
    "\n",
    "        drugs.append(drug_name)\n",
    "        drugbank_ids.append(drugbank_id)\n",
    "        atc_codes.append(', '.join(codes))\n",
    "        pathways.append(', '.join(drug_pathways))\n",
    "    \n",
    "    return pd.DataFrame({'Drug': drugs, 'DrugBank ID': drugbank_ids, 'ATC Codes': atc_codes, 'Pathways': pathways})"
   ]
  },
  {
   "cell_type": "code",
   "execution_count": 18,
   "metadata": {},
   "outputs": [],
   "source": [
    "def parse_drugbank_xml(xml_file_path):\n",
    "    tree = ET.parse(xml_file_path)\n",
    "    root = tree.getroot()\n",
    "\n",
    "    ns = {'db': 'http://www.drugbank.ca'}\n",
    "\n",
    "    atc_codes = []\n",
    "    drugbank_ids = []\n",
    "\n",
    "    for drug in root.findall('db:drug', ns):\n",
    "        drugbank_id = drug.find('db:drugbank-id', ns).text if drug.find('db:drugbank-id', ns) is not None else 'No ID'\n",
    "        \n",
    "        atc_code_elements = drug.findall('db:atc-codes/db:atc-code', ns)\n",
    "        codes = [code.get('code') for code in atc_code_elements] if atc_code_elements else ['No ATC Code']\n",
    "\n",
    "        drugbank_ids.append(drugbank_id)\n",
    "        atc_codes.append(', '.join(codes))\n",
    "    \n",
    "    return pd.DataFrame({'DrugBank ID': drugbank_ids, 'ATC Codes': atc_codes})"
   ]
  },
  {
   "cell_type": "code",
   "execution_count": 19,
   "metadata": {},
   "outputs": [
    {
     "name": "stdout",
     "output_type": "stream",
     "text": [
      "  DrugBank ID ATC Codes\n",
      "0     DB00001   B01AE02\n",
      "1     DB00002   L01FE01\n",
      "2     DB00003   R05CB13\n",
      "3     DB00004   L01XX29\n",
      "4     DB00005   L04AB01\n"
     ]
    }
   ],
   "source": [
    "xml_path = 'full_database.xml'\n",
    "df = parse_drugbank_xml(xml_path)\n",
    "print(df.head())\n",
    "#df.to_csv('drugbank_atc_codes_out.csv', index=False)\n",
    "#print(\"CSV file has been created.\")"
   ]
  },
  {
   "cell_type": "code",
   "execution_count": 5,
   "metadata": {},
   "outputs": [
    {
     "name": "stdout",
     "output_type": "stream",
     "text": [
      "  DrugBank ID First letter ATC Codes\n",
      "0     DB00001                      B\n",
      "1     DB00002                      L\n",
      "2     DB00003                      R\n",
      "3     DB00004                      L\n",
      "4     DB00005                      L\n",
      "      DrugBank ID First letter ATC Codes\n",
      "16576     DB18713            No ATC Code\n",
      "16577     DB18714            No ATC Code\n",
      "16578     DB18715            No ATC Code\n",
      "16579     DB18716            No ATC Code\n",
      "16580     DB18717            No ATC Code\n"
     ]
    }
   ],
   "source": [
    "df = pd.read_csv('drugbank_atc_codes_out.csv')\n",
    "\n",
    "df = df.drop(['Drug', 'Pathways'], axis=1)\n",
    "\n",
    "df['ATC Codes'] = df['ATC Codes'].apply(lambda x: x if x == 'No ATC Code' else x.split(',')[0][0])\n",
    "\n",
    "df = df.rename(columns={'ATC Codes': 'First letter ATC Codes'})\n",
    "\n",
    "print(df.head())\n",
    "print(df.tail())"
   ]
  },
  {
   "cell_type": "code",
   "execution_count": 6,
   "metadata": {},
   "outputs": [],
   "source": [
    "df.to_csv('drugbank_drug_and_first_letter_atc_codes.csv', index=False)"
   ]
  },
  {
   "cell_type": "code",
   "execution_count": 7,
   "metadata": {},
   "outputs": [],
   "source": [
    "def assign_groups(df, column_name):\n",
    "    atc_to_group = {}\n",
    "    group_id = 0\n",
    "    \n",
    "    for index, row in df.iterrows():\n",
    "        pathways = row[column_name]\n",
    "        \n",
    "        if pathways not in atc_to_group:\n",
    "            atc_to_group[pathways] = group_id\n",
    "            group_id += 1\n",
    "        \n",
    "        df.at[index, 'group'] = atc_to_group[pathways]\n",
    "    \n",
    "    return df"
   ]
  },
  {
   "cell_type": "code",
   "execution_count": 8,
   "metadata": {},
   "outputs": [
    {
     "name": "stdout",
     "output_type": "stream",
     "text": [
      "  DrugBank ID First letter ATC Codes  group\n",
      "0     DB00001                      B    0.0\n",
      "1     DB00002                      L    1.0\n",
      "2     DB00003                      R    2.0\n",
      "3     DB00004                      L    1.0\n",
      "4     DB00005                      L    1.0\n",
      "      DrugBank ID First letter ATC Codes  group\n",
      "16576     DB18713            No ATC Code    5.0\n",
      "16577     DB18714            No ATC Code    5.0\n",
      "16578     DB18715            No ATC Code    5.0\n",
      "16579     DB18716            No ATC Code    5.0\n",
      "16580     DB18717            No ATC Code    5.0\n"
     ]
    }
   ],
   "source": [
    "df = pd.read_csv('drugbank_drug_and_first_letter_atc_codes.csv')\n",
    "df = assign_groups(df, 'First letter ATC Codes')\n",
    "print(df.head())\n",
    "print(df.tail())"
   ]
  },
  {
   "cell_type": "code",
   "execution_count": 12,
   "metadata": {},
   "outputs": [
    {
     "name": "stdout",
     "output_type": "stream",
     "text": [
      "Group 0: 1.03%\n",
      "Group 1: 2.58%\n",
      "Group 2: 1.30%\n",
      "Group 3: 1.15%\n",
      "Group 4: 0.40%\n",
      "Group 5: 79.07%\n",
      "Group 6: 2.49%\n",
      "Group 7: 1.11%\n",
      "Group 8: 0.98%\n",
      "Group 9: 1.15%\n",
      "Group 10: 2.13%\n",
      "Group 11: 3.08%\n",
      "Group 12: 0.72%\n",
      "Group 13: 2.21%\n",
      "Group 14: 0.60%\n"
     ]
    }
   ],
   "source": [
    "group_counts = df['group'].value_counts(normalize=True) * 100\n",
    "\n",
    "all_groups = pd.Series(range(15))\n",
    "group_percentages = all_groups.map(group_counts).fillna(0)\n",
    "\n",
    "for group, percentage in group_percentages.items():\n",
    "    print(f\"Group {group}: {percentage:.2f}%\")"
   ]
  },
  {
   "cell_type": "code",
   "execution_count": 13,
   "metadata": {},
   "outputs": [
    {
     "name": "stdout",
     "output_type": "stream",
     "text": [
      "  drugbankId      chembl_id\n",
      "0    DB13088  CHEMBL3545177\n",
      "1    DB13089   CHEMBL230006\n",
      "2    DB13082   CHEMBL260829\n",
      "3    DB13083   CHEMBL459505\n",
      "4    DB13080            NaN\n"
     ]
    }
   ],
   "source": [
    "df_tsv = pd.read_csv('drug-mappings.tsv', sep='\\t')\n",
    "df_mappings = df_tsv[['drugbankId', 'chembl_id']]\n",
    "print(df_mappings.head())"
   ]
  },
  {
   "cell_type": "code",
   "execution_count": 14,
   "metadata": {},
   "outputs": [
    {
     "name": "stdout",
     "output_type": "stream",
     "text": [
      "  DrugBank ID First letter ATC Codes  group      chembl_id\n",
      "0     DB00001                      B    0.0  CHEMBL1201666\n",
      "1     DB00002                      L    1.0  CHEMBL1201577\n",
      "2     DB00003                      R    2.0  CHEMBL1201431\n",
      "3     DB00004                      L    1.0  CHEMBL1201550\n",
      "4     DB00005                      L    1.0  CHEMBL1201572\n"
     ]
    }
   ],
   "source": [
    "df2 = pd.merge(df, df_mappings, left_on='DrugBank ID', right_on='drugbankId', how='left')\n",
    "\n",
    "# drop the extra 'drugbankId' column if it exists after merging\n",
    "df2.drop('drugbankId', axis=1, inplace=True)\n",
    "\n",
    "print(df2.head())"
   ]
  },
  {
   "cell_type": "code",
   "execution_count": 16,
   "metadata": {},
   "outputs": [],
   "source": [
    "df2.to_csv('drugbank_id_ATC_group_chembl_id.csv', index=False)"
   ]
  },
  {
   "cell_type": "code",
   "execution_count": 15,
   "metadata": {},
   "outputs": [
    {
     "name": "stdout",
     "output_type": "stream",
     "text": [
      "Number of drugs without ATC codes: 13111\n",
      "Total number of drugs: 16581\n",
      "Percentage of drugs without ATC codes: 79.07%\n"
     ]
    }
   ],
   "source": [
    "count = 0\n",
    "for row in df.itertuples():\n",
    "    if row._2 == 'No ATC Code':\n",
    "        count+=1\n",
    "\n",
    "print(f\"Number of drugs without ATC codes: {count}\")\n",
    "print(f\"Total number of drugs: {len(df)}\")\n",
    "print(f\"Percentage of drugs without ATC codes: {count/len(df)*100:.2f}%\")"
   ]
  },
  {
   "cell_type": "markdown",
   "metadata": {},
   "source": [
    "from ./download/drugbank_drug_targets.csv which is a dataframe consisting of 2 columsn called 'DrugBank ID', 'target'\n",
    "load drugbank_drug_targets as a pandas dataframe\n",
    "from /full_database/drugbank_atc_codes_out.csv\n",
    "load drugbank_atc_codes_out as a pandas dataframe\n",
    "for every drug entry in drugbank_drug_targets, find the corresponding drug entry in drugbank_atc_codes_out and append the entire row to the dataframe\n",
    "the new dataframe should look like 'DrugBank ID', 'target', 'Drug', 'DrugBank ID', 'ATC Codes', and 'Pathways'\n",
    "then drop the 'DrugBank ID' 4th column\n",
    "now sort the dataframe by the 'Pathways' in descending order\n",
    "convert the dataframe to a csv"
   ]
  },
  {
   "cell_type": "code",
   "execution_count": 11,
   "metadata": {},
   "outputs": [],
   "source": [
    "def merge_and_sort_data(drug_targets_path, atc_codes_path, output_csv_path):\n",
    "    drug_targets_df = pd.read_csv(drug_targets_path)\n",
    "    atc_codes_df = pd.read_csv(atc_codes_path)\n",
    "\n",
    "    drug_targets_df = drug_targets_df.rename(columns={'drug': 'DrugBank ID'})\n",
    "\n",
    "    merged_df = pd.merge(drug_targets_df, atc_codes_df, on='DrugBank ID', how='left')\n",
    "    \n",
    "    merged_df.sort_values(by='Pathways', ascending=False, inplace=True)\n",
    "\n",
    "    # drop the duplicate 'DrugBank ID' column\n",
    "    merged_df.drop(merged_df.columns[3], axis=1, inplace=True)\n",
    "    \n",
    "    merged_df.to_csv(output_csv_path, index=False)\n",
    "    \n",
    "    print(\"First 10 elements:\")\n",
    "    print(merged_df.head(10))\n",
    "    print(\"\\nLast 10 elements:\")\n",
    "    print(merged_df.tail(10))"
   ]
  },
  {
   "cell_type": "code",
   "execution_count": null,
   "metadata": {},
   "outputs": [],
   "source": [
    "merge_and_sort_data('../download/drugbank_drug_targets.csv',\n",
    "                    'drugbank_atc_codes_out.csv',\n",
    "                    'merged_data.csv')"
   ]
  },
  {
   "cell_type": "code",
   "execution_count": 6,
   "metadata": {},
   "outputs": [
    {
     "name": "stdout",
     "output_type": "stream",
     "text": [
      "  DrugBank ID     target          Drug   \n",
      "0     DB03088  BE0002942  Pidolic acid  \\\n",
      "0     DB03088  BE0002942  Pidolic acid   \n",
      "0     DB03088  BE0002942  Pidolic acid   \n",
      "0     DB03088  BE0002942  Pidolic acid   \n",
      "0     DB03088  BE0002942  Pidolic acid   \n",
      "0     DB03088  BE0002942  Pidolic acid   \n",
      "1     DB03088  BE0001671  Pidolic acid   \n",
      "1     DB03088  BE0001671  Pidolic acid   \n",
      "1     DB03088  BE0001671  Pidolic acid   \n",
      "1     DB03088  BE0001671  Pidolic acid   \n",
      "\n",
      "                                   Pathway  \n",
      "0  gamma-Glutamyltranspeptidase Deficiency  \n",
      "0     gamma-Glutamyltransferase Deficiency  \n",
      "0                5-Oxoprolinase Deficiency  \n",
      "0                   Glutathione Metabolism  \n",
      "0                          5-Oxoprolinuria  \n",
      "0        Glutathione Synthetase Deficiency  \n",
      "1  gamma-Glutamyltranspeptidase Deficiency  \n",
      "1     gamma-Glutamyltransferase Deficiency  \n",
      "1                5-Oxoprolinase Deficiency  \n",
      "1                   Glutathione Metabolism  \n",
      "      DrugBank ID     target Drug Pathway\n",
      "13668     DB08567  BE0003930  NaN     NaN\n",
      "13669     DB08584  BE0000915  NaN     NaN\n",
      "13670     DB08592  BE0002050  NaN     NaN\n",
      "13671     DB08650  BE0004364  NaN     NaN\n",
      "13672     DB08650  BE0004365  NaN     NaN\n",
      "13673     DB08679  BE0001594  NaN     NaN\n",
      "13674     DB08696  BE0000779  NaN     NaN\n",
      "13675     DB08696  BE0004382  NaN     NaN\n",
      "13676     DB08700  BE0000915  NaN     NaN\n",
      "13677     DB08764  BE0002411  NaN     NaN\n"
     ]
    }
   ],
   "source": [
    "df = pd.read_csv('merged_data.csv')\n",
    "\n",
    "split_df = df.assign(Pathways=df['Pathways'].str.split(', ')).explode('Pathways')\n",
    "split_df = split_df.rename(columns={'Pathways' : 'Pathway'})\n",
    "\n",
    "print(split_df.head())\n",
    "print(split_df.tail())"
   ]
  },
  {
   "cell_type": "code",
   "execution_count": 7,
   "metadata": {},
   "outputs": [
    {
     "name": "stdout",
     "output_type": "stream",
     "text": [
      "<bound method NDFrame.head of       DrugBank ID     target          Drug   \n",
      "0         DB03088  BE0002942  Pidolic acid  \\\n",
      "0         DB03088  BE0002942  Pidolic acid   \n",
      "0         DB03088  BE0002942  Pidolic acid   \n",
      "0         DB03088  BE0002942  Pidolic acid   \n",
      "0         DB03088  BE0002942  Pidolic acid   \n",
      "...           ...        ...           ...   \n",
      "13673     DB08679  BE0001594           NaN   \n",
      "13674     DB08696  BE0000779           NaN   \n",
      "13675     DB08696  BE0004382           NaN   \n",
      "13676     DB08700  BE0000915           NaN   \n",
      "13677     DB08764  BE0002411           NaN   \n",
      "\n",
      "                                       Pathway  \n",
      "0      gamma-Glutamyltranspeptidase Deficiency  \n",
      "0         gamma-Glutamyltransferase Deficiency  \n",
      "0                    5-Oxoprolinase Deficiency  \n",
      "0                       Glutathione Metabolism  \n",
      "0                              5-Oxoprolinuria  \n",
      "...                                        ...  \n",
      "13673                                      NaN  \n",
      "13674                                      NaN  \n",
      "13675                                      NaN  \n",
      "13676                                      NaN  \n",
      "13677                                      NaN  \n",
      "\n",
      "[48591 rows x 4 columns]>\n",
      "<bound method NDFrame.tail of       DrugBank ID     target          Drug   \n",
      "0         DB03088  BE0002942  Pidolic acid  \\\n",
      "0         DB03088  BE0002942  Pidolic acid   \n",
      "0         DB03088  BE0002942  Pidolic acid   \n",
      "0         DB03088  BE0002942  Pidolic acid   \n",
      "0         DB03088  BE0002942  Pidolic acid   \n",
      "...           ...        ...           ...   \n",
      "13673     DB08679  BE0001594           NaN   \n",
      "13674     DB08696  BE0000779           NaN   \n",
      "13675     DB08696  BE0004382           NaN   \n",
      "13676     DB08700  BE0000915           NaN   \n",
      "13677     DB08764  BE0002411           NaN   \n",
      "\n",
      "                                       Pathway  \n",
      "0      gamma-Glutamyltranspeptidase Deficiency  \n",
      "0         gamma-Glutamyltransferase Deficiency  \n",
      "0                    5-Oxoprolinase Deficiency  \n",
      "0                       Glutathione Metabolism  \n",
      "0                              5-Oxoprolinuria  \n",
      "...                                        ...  \n",
      "13673                                      NaN  \n",
      "13674                                      NaN  \n",
      "13675                                      NaN  \n",
      "13676                                      NaN  \n",
      "13677                                      NaN  \n",
      "\n",
      "[48591 rows x 4 columns]>\n"
     ]
    }
   ],
   "source": [
    "sorted_df = split_df.sort_values(by='Pathway', ascending=False)\n",
    "print(split_df.head)\n",
    "print(split_df.tail)"
   ]
  },
  {
   "cell_type": "code",
   "execution_count": 8,
   "metadata": {},
   "outputs": [
    {
     "name": "stdout",
     "output_type": "stream",
     "text": [
      "Number of unique pathways: 856\n"
     ]
    }
   ],
   "source": [
    "print(\"Number of unique pathways:\", sorted_df['Pathway'].nunique())"
   ]
  },
  {
   "cell_type": "code",
   "execution_count": 9,
   "metadata": {},
   "outputs": [
    {
     "name": "stdout",
     "output_type": "stream",
     "text": [
      "Total number of unique drugs with non-NaN pathways: 5928\n",
      "Total number of unique drugs: 6029\n"
     ]
    }
   ],
   "source": [
    "valid_pathways_df = sorted_df.dropna(subset=['Pathway'])\n",
    "\n",
    "num_unique_drugs_with_pathways = valid_pathways_df['DrugBank ID'].nunique()\n",
    "\n",
    "print(\"Total number of unique drugs with non-NaN pathways:\", num_unique_drugs_with_pathways)\n",
    "\n",
    "drug_targets_df = pd.read_csv(\"../download/drugbank_drug_targets.csv\")\n",
    "print(\"Total number of unique drugs:\", drug_targets_df['drug'].nunique())\n",
    "#print(\"Total number of unique targets:\", drug_targets_df['target'].nunique())\n"
   ]
  },
  {
   "cell_type": "code",
   "execution_count": 10,
   "metadata": {},
   "outputs": [],
   "source": [
    "valid_pathways_df.to_csv('valid_pathways_df.csv', index=False)"
   ]
  },
  {
   "cell_type": "code",
   "execution_count": 7,
   "metadata": {},
   "outputs": [
    {
     "name": "stdout",
     "output_type": "stream",
     "text": [
      "      DrugBank ID     target  group\n",
      "0         DB03088  BE0002942    0.0\n",
      "1         DB03088  BE0001671    0.0\n",
      "2         DB03088  BE0002941    0.0\n",
      "3         DB03088  BE0002940    0.0\n",
      "4         DB03088  BE0002939    0.0\n",
      "...           ...        ...    ...\n",
      "13455     DB01536  BE0000194  505.0\n",
      "13456     DB01536  BE0000051  505.0\n",
      "13457     DB01536  BE0001638  505.0\n",
      "13458     DB00624  BE0000132  505.0\n",
      "13459     DB07447  BE0003610  506.0\n",
      "\n",
      "[13460 rows x 3 columns]\n"
     ]
    }
   ],
   "source": [
    "data = pd.read_csv('merged_data.csv')\n",
    "df = pd.DataFrame(data)\n",
    "df = df.dropna(subset=['Pathways'])\n",
    "df = assign_groups(df)\n",
    "df = df.drop(columns=['Drug', 'Pathways'])\n",
    "print(df)"
   ]
  },
  {
   "cell_type": "code",
   "execution_count": 8,
   "metadata": {},
   "outputs": [],
   "source": [
    "df.to_csv('groups.csv', index=False)\n"
   ]
  },
  {
   "cell_type": "code",
   "execution_count": 2,
   "metadata": {},
   "outputs": [
    {
     "name": "stdout",
     "output_type": "stream",
     "text": [
      "Requirement already satisfied: requests in c:\\users\\sibux\\appdata\\local\\programs\\python\\python310\\lib\\site-packages (2.31.0)\n",
      "Requirement already satisfied: charset-normalizer<4,>=2 in c:\\users\\sibux\\appdata\\local\\programs\\python\\python310\\lib\\site-packages (from requests) (3.1.0)\n",
      "Requirement already satisfied: idna<4,>=2.5 in c:\\users\\sibux\\appdata\\local\\programs\\python\\python310\\lib\\site-packages (from requests) (3.4)\n",
      "Requirement already satisfied: urllib3<3,>=1.21.1 in c:\\users\\sibux\\appdata\\local\\programs\\python\\python310\\lib\\site-packages (from requests) (1.26.18)\n",
      "Requirement already satisfied: certifi>=2017.4.17 in c:\\users\\sibux\\appdata\\local\\programs\\python\\python310\\lib\\site-packages (from requests) (2023.5.7)\n"
     ]
    }
   ],
   "source": [
    "! pip install requests"
   ]
  },
  {
   "cell_type": "code",
   "execution_count": 3,
   "metadata": {},
   "outputs": [],
   "source": [
    "import requests"
   ]
  },
  {
   "cell_type": "code",
   "execution_count": 7,
   "metadata": {},
   "outputs": [
    {
     "name": "stdout",
     "output_type": "stream",
     "text": [
      "Failed to retrieve data from UniChem, status code: 404\n"
     ]
    }
   ],
   "source": [
    "def get_drugbank_id_from_chembl(full_chembl_id):\n",
    "    chembl_id = full_chembl_id.split(':')[-1]\n",
    "    \n",
    "        unichem_url = f\"https://www.ebi.ac.uk/unichem/rest/src_compound_id/{chembl_id}/1/2\"\n",
    "    \n",
    "    try:\n",
    "        response = requests.get(unichem_url)\n",
    "        if response.status_code == 200:\n",
    "            data = response.json()\n",
    "            return [x['src_compound_id'] for x in data] if data else \"No DrugBank ID found for this ChEMBL ID.\"\n",
    "        else:\n",
    "            return f\"Failed to retrieve data from UniChem, status code: {response.status_code}\"\n",
    "    except Exception as e:\n",
    "        return f\"An error occurred: {str(e)}\"\n",
    "    \n",
    "full_chembl_id = \"CHEMBL.COMPOUND:CHEMBL1200531\"\n",
    "drugbank_ids = get_drugbank_id_from_chembl(full_chembl_id)\n",
    "print(drugbank_ids)\n"
   ]
  },
  {
   "cell_type": "code",
   "execution_count": null,
   "metadata": {},
   "outputs": [],
   "source": [
    "df = pd.read_csv('../../pairs.csv', header=None) \n",
    "\n",
    "list = df[1].tolist()\n",
    "\n",
    "for id in list:\n",
    "    drugbank_ids = get_drugbank_id_from_chembl(id)\n",
    "    print(drugbank_ids)"
   ]
  },
  {
   "cell_type": "code",
   "execution_count": 45,
   "metadata": {},
   "outputs": [
    {
     "name": "stdout",
     "output_type": "stream",
     "text": [
      "Group 7 with 402 instances\n",
      "Group 15 with 11 instances\n",
      "Group 2 with 1026 instances\n",
      "Group 13 with 130 instances\n",
      "Group 3 with 764 instances\n",
      "Group 10 with 207 instances\n",
      "Group 11 with 37 instances\n",
      "Group 12 with 408 instances\n",
      "Group 0 with 5588 instances\n",
      "Group 5 with 1247 instances\n",
      "Group 4 with 1948 instances\n",
      "Group 14 with 77 instances\n",
      "Group 1 with 4898 instances\n",
      "Group 6 with 167 instances\n",
      "Group 8 with 259 instances\n",
      "Group 9 with 385 instances\n"
     ]
    }
   ],
   "source": [
    "groups = {'Fold 0': [(7, 402)], 'Fold 1': [(15, 11)], 'Fold 2': [(2, 1026)], 'Fold 3': [(13, 130)], 'Fold 4': [(3, 764), (10, 207), (11, 37), (12, 408)], 'Fold 5': [(0, 5588), (5, 1247)], 'Fold 6': [(4, 1948), (14, 77)], 'Fold 7': [(1, 4898)], 'Fold 8': [(6, 167), (8, 259)], 'Fold 9': [(9, 385)]}\n",
    "\n",
    "\n",
    "fold_index = 0\n",
    "df = pd.DataFrame\n",
    "for fold, group_data in groups.items():\n",
    "#group_data = groups[f\"Fold {fold_index}\"]\n",
    "    list = []\n",
    "    for (x,y) in group_data:\n",
    "        entry = ('Group ', x, ' with ', y,' instances')\n",
    "        list.append(entry)\n",
    "\n",
    "#print('Group data', ''.join(str(x) for x in group_data))\n",
    "    for x in list:\n",
    "        print(''.join(map(str, x)))\n",
    "    #print(''.join(map(str, list[0])))"
   ]
  },
  {
   "cell_type": "code",
   "execution_count": 56,
   "metadata": {},
   "outputs": [
    {
     "name": "stdout",
     "output_type": "stream",
     "text": [
      "Group partitions: Group 3 with 764 instances, Group 10 with 207 instances, Group 11 with 37 instances, Group 12 with 408 instances, \n",
      "Group partitions: Group 2 with 1026 instances, \n"
     ]
    }
   ],
   "source": [
    "import pandas as pd\n",
    "\n",
    "\n",
    "groups = {'Fold 0': [(7, 402)], 'Fold 1': [(15, 11)], 'Fold 2': [(2, 1026)], 'Fold 3': [(13, 130)], 'Fold 4': [(3, 764), (10, 207), (11, 37), (12, 408)], 'Fold 5': [(0, 5588), (5, 1247)], 'Fold 6': [(4, 1948), (14, 77)], 'Fold 7': [(1, 4898)], 'Fold 8': [(6, 167), (8, 259)], 'Fold 9': [(9, 385)]}\n",
    "\n",
    "fold_number = 4\n",
    "\n",
    "fold = groups.get(f\"Fold {fold_number}\", None)\n",
    "\n",
    "list = []\n",
    "for (x,y) in fold:\n",
    "    entry = ('Group ', x, ' with ', y,' instances')\n",
    "    list.append(entry)\n",
    "\n",
    "sentence = 'Group partitions: '\n",
    "for x in list:\n",
    "   sentence += ''.join(map(str, x)) + ', '\n",
    "\n",
    "print(sentence)\n",
    "\n",
    "def get_group_partitions_string(groups, fold_number):\n",
    "    fold = groups.get(f\"Fold {fold_number}\", None)\n",
    "\n",
    "    list = []\n",
    "    for (x,y) in fold:\n",
    "        entry = ('Group ', x, ' with ', y,' instances')\n",
    "        list.append(entry)\n",
    "\n",
    "    sentence = 'Group partitions: '\n",
    "    for x in list:\n",
    "        sentence += ''.join(map(str, x)) + ', '\n",
    "    \n",
    "    return sentence\n",
    "\n",
    "print(get_group_partitions_string(groups, 2))\n"
   ]
  },
  {
   "cell_type": "code",
   "execution_count": 6,
   "metadata": {},
   "outputs": [],
   "source": [
    "\n",
    "import pandas as pd\n",
    "\n",
    "test_set_groups_and_counts = [[(1, 1004)], [(5, 66), (9, 384)], [(0, 1178), (14, 35)], [(6, 765)], [(3, 256)], [(12, 1959)], [(13, 412), (15, 162)], [(2, 5610), (4, 4953), (11, 175)], [(7, 16), (10, 201)], [(8, 378)]]\n",
    "\n",
    "test_set_groups_and_counts_2 = [[(1, 963)], [(3, 245), (8, 435)], [(7, 17)], [(9, 412)], [(11, 146), (14, 42), (15, 161)], [(5, 66), (13, 402)], [(6, 740), (12, 1953)], [(4, 4939), (10, 222)], [(2, 5616)], [(0, 1195)]]\n",
    "\n",
    "groups_df = pd.DataFrame()\n",
    "\n",
    "group_strings = [str(fold) for fold in test_set_groups_and_counts]\n",
    "df = pd.DataFrame(group_strings, columns=['(Group number, Group instance count)'])\n",
    "groups_df = pd.concat([groups_df, df], ignore_index=True)\n",
    "group_strings = [str(fold) for fold in test_set_groups_and_counts_2]\n",
    "df = pd.DataFrame(group_strings, columns=['(Group number, Group instance count)'])\n",
    "groups_df = pd.concat([groups_df, df], ignore_index=True)\n",
    "\n",
    "groups_df.to_csv(\"groups_and_counts_test.csv\", sep=\",\", index=False)"
   ]
  }
 ],
 "metadata": {
  "kernelspec": {
   "display_name": "Python 3",
   "language": "python",
   "name": "python3"
  },
  "language_info": {
   "codemirror_mode": {
    "name": "ipython",
    "version": 3
   },
   "file_extension": ".py",
   "mimetype": "text/x-python",
   "name": "python",
   "nbconvert_exporter": "python",
   "pygments_lexer": "ipython3",
   "version": "3.10.7"
  }
 },
 "nbformat": 4,
 "nbformat_minor": 2
}
