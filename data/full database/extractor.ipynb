{
 "cells": [
  {
   "cell_type": "code",
   "execution_count": null,
   "metadata": {},
   "outputs": [],
   "source": [
    "! pip install pandas lxml"
   ]
  },
  {
   "cell_type": "code",
   "execution_count": 2,
   "metadata": {},
   "outputs": [],
   "source": [
    "import pandas as pd\n",
    "import lxml.etree as ET"
   ]
  },
  {
   "cell_type": "code",
   "execution_count": 3,
   "metadata": {},
   "outputs": [],
   "source": [
    "def parse_drugbank_xml(xml_file_path):\n",
    "    tree = ET.parse(xml_file_path)\n",
    "    root = tree.getroot()\n",
    "\n",
    "    ns = {'db': 'http://www.drugbank.ca'}\n",
    "\n",
    "    drugs = []\n",
    "    atc_codes = []\n",
    "\n",
    "    for drug in root.findall('db:drug', ns):\n",
    "        drug_name = drug.find('db:name', ns).text if drug.find('db:name', ns) is not None else 'No Name'\n",
    "        \n",
    "        atc_code_elements = drug.findall('db:atc-codes/db:atc-code', ns)\n",
    "        codes = [code.get('code') for code in atc_code_elements] if atc_code_elements else ['No ATC Code']\n",
    "\n",
    "        drugs.append(drug_name)\n",
    "        atc_codes.append(', '.join(codes))\n",
    "    \n",
    "    return pd.DataFrame({'Drug': drugs, 'ATC Codes': atc_codes})"
   ]
  },
  {
   "cell_type": "code",
   "execution_count": 16,
   "metadata": {},
   "outputs": [],
   "source": [
    "def parse_drugbank_xml(xml_file_path):\n",
    "    tree = ET.parse(xml_file_path)\n",
    "    root = tree.getroot()\n",
    "\n",
    "    ns = {'db': 'http://www.drugbank.ca'}\n",
    "\n",
    "    drugs = []\n",
    "    atc_codes = []\n",
    "    drugbank_ids = []\n",
    "    pathways = []\n",
    "\n",
    "    for drug in root.findall('db:drug', ns):\n",
    "        drug_name = drug.find('db:name', ns).text if drug.find('db:name', ns) is not None else 'No Name'\n",
    "        drugbank_id = drug.find('db:drugbank-id', ns).text if drug.find('db:drugbank-id', ns) is not None else 'No ID'\n",
    "        \n",
    "        atc_code_elements = drug.findall('db:atc-codes/db:atc-code', ns)\n",
    "        codes = [code.get('code') for code in atc_code_elements] if atc_code_elements else ['No ATC Code']\n",
    "        \n",
    "        pathway_elements = drug.findall('db:pathways/db:pathway/db:name', ns)\n",
    "        drug_pathways = [pathway.text for pathway in pathway_elements] if pathway_elements else ['No Pathways']\n",
    "\n",
    "        drugs.append(drug_name)\n",
    "        drugbank_ids.append(drugbank_id)\n",
    "        atc_codes.append(', '.join(codes))\n",
    "        pathways.append(', '.join(drug_pathways))\n",
    "    \n",
    "    return pd.DataFrame({'Drug': drugs, 'DrugBank ID': drugbank_ids, 'ATC Codes': atc_codes, 'Pathways': pathways})\n"
   ]
  },
  {
   "cell_type": "code",
   "execution_count": 17,
   "metadata": {},
   "outputs": [
    {
     "name": "stdout",
     "output_type": "stream",
     "text": [
      "CSV file has been created.\n"
     ]
    }
   ],
   "source": [
    "xml_path = 'full_database.xml'\n",
    "df = parse_drugbank_xml(xml_path)\n",
    "\n",
    "df.to_csv('drugbank_atc_codes_out.csv', index=False)\n",
    "print(\"CSV file has been created.\")"
   ]
  },
  {
   "cell_type": "code",
   "execution_count": 15,
   "metadata": {},
   "outputs": [
    {
     "name": "stdout",
     "output_type": "stream",
     "text": [
      "Number of drugs without ATC codes: 13111\n",
      "Total number of drugs: 16581\n",
      "Percentage of drugs without ATC codes: 79.07%\n"
     ]
    }
   ],
   "source": [
    "count = 0\n",
    "for row in df.itertuples():\n",
    "    if row._2 == 'No ATC Code':\n",
    "        count+=1\n",
    "\n",
    "print(f\"Number of drugs without ATC codes: {count}\")\n",
    "print(f\"Total number of drugs: {len(df)}\")\n",
    "print(f\"Percentage of drugs without ATC codes: {count/len(df)*100:.2f}%\")"
   ]
  },
  {
   "cell_type": "code",
   "execution_count": null,
   "metadata": {},
   "outputs": [],
   "source": [
    "# from ./download/drugbank_drug_targets.csv which is a dataframe consisting of 2 columsn called 'DrugBank ID', 'target'\n",
    "# load drugbank_drug_targets as a pandas dataframe\n",
    "# from /full_database/drugbank_atc_codes_out.csv\n",
    "# load drugbank_atc_codes_out as a pandas dataframe\n",
    "# for every drug entry in drugbank_drug_targets, find the corresponding drug entry in drugbank_atc_codes_out and append the entire row to the dataframe\n",
    "# the new dataframe should look like 'DrugBank ID', 'target', 'Drug', 'DrugBank ID', 'ATC Codes', and 'Pathways'\n",
    "# then drop the 'DrugBank ID' 4th column\n",
    "# now sort the dataframe by the 'Pathways' in descending order\n",
    "# convert the dataframe to a csv\n"
   ]
  },
  {
   "cell_type": "code",
   "execution_count": 25,
   "metadata": {},
   "outputs": [],
   "source": [
    "def merge_and_sort_data(drug_targets_path, atc_codes_path, output_csv_path):\n",
    "    # Load drugbank_drug_targets.csv and drugbank_atc_codes_out.csv as pandas dataframes\n",
    "    drug_targets_df = pd.read_csv(drug_targets_path)\n",
    "    atc_codes_df = pd.read_csv(atc_codes_path)\n",
    "\n",
    "    drug_targets_df = drug_targets_df.rename(columns={'drug': 'DrugBank ID'})\n",
    "\n",
    "    # Merge drug_targets_df with atc_codes_df on 'DrugBank ID' column\n",
    "    merged_df = pd.merge(drug_targets_df, atc_codes_df, on='DrugBank ID', how='left')\n",
    "    \n",
    "    # Sort the merged dataframe by 'Pathways' column in descending order\n",
    "    merged_df.sort_values(by='Pathways', ascending=False, inplace=True)\n",
    "\n",
    "    # Drop the duplicate 'DrugBank ID' column\n",
    "    merged_df.drop(merged_df.columns[3], axis=1, inplace=True)\n",
    "    \n",
    "    # Convert the dataframe to CSV\n",
    "    merged_df.to_csv(output_csv_path, index=False)\n",
    "    \n",
    "    # Print the first 10 and last 10 elements of the dataframe\n",
    "    print(\"First 10 elements:\")\n",
    "    print(merged_df.head(10))\n",
    "    print(\"\\nLast 10 elements:\")\n",
    "    print(merged_df.tail(10))"
   ]
  },
  {
   "cell_type": "code",
   "execution_count": null,
   "metadata": {},
   "outputs": [],
   "source": [
    "merge_and_sort_data('../download/drugbank_drug_targets.csv',\n",
    "                    'drugbank_atc_codes_out.csv',\n",
    "                    'merged_data.csv')"
   ]
  },
  {
   "cell_type": "code",
   "execution_count": null,
   "metadata": {},
   "outputs": [],
   "source": [
    "df = pd.read_csv('merged_data.csv')\n",
    "\n",
    "split_df = df.assign(Pathways=df['Pathways'].str.split(', ')).explode('Pathways')\n",
    "split_df = split_df.rename(columns={'Pathways' : 'Pathway'})\n",
    "\n",
    "print(split_df.head(10))\n",
    "print(split_df.tail(10))"
   ]
  },
  {
   "cell_type": "code",
   "execution_count": 33,
   "metadata": {},
   "outputs": [
    {
     "name": "stdout",
     "output_type": "stream",
     "text": [
      "<bound method NDFrame.head of       DrugBank ID     target          Drug   \n",
      "0         DB03088  BE0002942  Pidolic acid  \\\n",
      "0         DB03088  BE0002942  Pidolic acid   \n",
      "0         DB03088  BE0002942  Pidolic acid   \n",
      "0         DB03088  BE0002942  Pidolic acid   \n",
      "0         DB03088  BE0002942  Pidolic acid   \n",
      "...           ...        ...           ...   \n",
      "13673     DB08679  BE0001594           NaN   \n",
      "13674     DB08696  BE0000779           NaN   \n",
      "13675     DB08696  BE0004382           NaN   \n",
      "13676     DB08700  BE0000915           NaN   \n",
      "13677     DB08764  BE0002411           NaN   \n",
      "\n",
      "                                       Pathway  \n",
      "0      gamma-Glutamyltranspeptidase Deficiency  \n",
      "0         gamma-Glutamyltransferase Deficiency  \n",
      "0                    5-Oxoprolinase Deficiency  \n",
      "0                       Glutathione Metabolism  \n",
      "0                              5-Oxoprolinuria  \n",
      "...                                        ...  \n",
      "13673                                      NaN  \n",
      "13674                                      NaN  \n",
      "13675                                      NaN  \n",
      "13676                                      NaN  \n",
      "13677                                      NaN  \n",
      "\n",
      "[48591 rows x 4 columns]>\n",
      "<bound method NDFrame.tail of       DrugBank ID     target          Drug   \n",
      "0         DB03088  BE0002942  Pidolic acid  \\\n",
      "0         DB03088  BE0002942  Pidolic acid   \n",
      "0         DB03088  BE0002942  Pidolic acid   \n",
      "0         DB03088  BE0002942  Pidolic acid   \n",
      "0         DB03088  BE0002942  Pidolic acid   \n",
      "...           ...        ...           ...   \n",
      "13673     DB08679  BE0001594           NaN   \n",
      "13674     DB08696  BE0000779           NaN   \n",
      "13675     DB08696  BE0004382           NaN   \n",
      "13676     DB08700  BE0000915           NaN   \n",
      "13677     DB08764  BE0002411           NaN   \n",
      "\n",
      "                                       Pathway  \n",
      "0      gamma-Glutamyltranspeptidase Deficiency  \n",
      "0         gamma-Glutamyltransferase Deficiency  \n",
      "0                    5-Oxoprolinase Deficiency  \n",
      "0                       Glutathione Metabolism  \n",
      "0                              5-Oxoprolinuria  \n",
      "...                                        ...  \n",
      "13673                                      NaN  \n",
      "13674                                      NaN  \n",
      "13675                                      NaN  \n",
      "13676                                      NaN  \n",
      "13677                                      NaN  \n",
      "\n",
      "[48591 rows x 4 columns]>\n"
     ]
    }
   ],
   "source": [
    "sorted_df = split_df.sort_values(by='Pathway', ascending=False)\n",
    "print(split_df.head)\n",
    "print(split_df.tail)"
   ]
  },
  {
   "cell_type": "code",
   "execution_count": 34,
   "metadata": {},
   "outputs": [
    {
     "name": "stdout",
     "output_type": "stream",
     "text": [
      "Number of unique pathways: 856\n"
     ]
    }
   ],
   "source": [
    "print(\"Number of unique pathways:\", sorted_df['Pathway'].nunique())"
   ]
  },
  {
   "cell_type": "code",
   "execution_count": 38,
   "metadata": {},
   "outputs": [
    {
     "name": "stdout",
     "output_type": "stream",
     "text": [
      "Total number of unique drugs with non-NaN pathways: 5928\n",
      "Total number of unique drugs: 6029\n"
     ]
    }
   ],
   "source": [
    "valid_pathways_df = sorted_df.dropna(subset=['Pathway'])\n",
    "\n",
    "num_unique_drugs_with_pathways = valid_pathways_df['DrugBank ID'].nunique()\n",
    "\n",
    "print(\"Total number of unique drugs with non-NaN pathways:\", num_unique_drugs_with_pathways)\n",
    "\n",
    "drug_targets_df = pd.read_csv(\"../download/drugbank_drug_targets.csv\")\n",
    "print(\"Total number of unique drugs:\", drug_targets_df['drug'].nunique())\n",
    "#print(\"Total number of unique targets:\", drug_targets_df['target'].nunique())\n"
   ]
  },
  {
   "cell_type": "code",
   "execution_count": null,
   "metadata": {},
   "outputs": [],
   "source": []
  }
 ],
 "metadata": {
  "kernelspec": {
   "display_name": "Python 3",
   "language": "python",
   "name": "python3"
  },
  "language_info": {
   "codemirror_mode": {
    "name": "ipython",
    "version": 3
   },
   "file_extension": ".py",
   "mimetype": "text/x-python",
   "name": "python",
   "nbconvert_exporter": "python",
   "pygments_lexer": "ipython3",
   "version": "3.10.7"
  }
 },
 "nbformat": 4,
 "nbformat_minor": 2
}
