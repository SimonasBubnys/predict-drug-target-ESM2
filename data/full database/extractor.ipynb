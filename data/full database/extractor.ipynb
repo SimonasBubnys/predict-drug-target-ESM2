{
 "cells": [
  {
   "cell_type": "code",
   "execution_count": 1,
   "metadata": {},
   "outputs": [
    {
     "name": "stdout",
     "output_type": "stream",
     "text": [
      "^C\n"
     ]
    }
   ],
   "source": [
    "! pip install pandas lxml"
   ]
  },
  {
   "cell_type": "code",
   "execution_count": 9,
   "metadata": {},
   "outputs": [],
   "source": [
    "import pandas as pd\n",
    "import lxml.etree as ET"
   ]
  },
  {
   "cell_type": "code",
   "execution_count": 16,
   "metadata": {},
   "outputs": [],
   "source": [
    "def parse_drugbank_xml(xml_file_path):\n",
    "    tree = ET.parse(xml_file_path)\n",
    "    root = tree.getroot()\n",
    "\n",
    "    ns = {'db': 'http://www.drugbank.ca'}\n",
    "\n",
    "    drugs = []\n",
    "    atc_codes = []\n",
    "\n",
    "    for drug in root.findall('db:drug', ns):\n",
    "        drug_name = drug.find('db:name', ns).text if drug.find('db:name', ns) is not None else 'No Name'\n",
    "        \n",
    "        atc_code_elements = drug.findall('db:atc-codes/db:atc-code', ns)\n",
    "        codes = [code.get('code') for code in atc_code_elements] if atc_code_elements else ['No ATC Code']\n",
    "\n",
    "        drugs.append(drug_name)\n",
    "        atc_codes.append(', '.join(codes))\n",
    "    \n",
    "    return pd.DataFrame({'Drug': drugs, 'ATC Codes': atc_codes})"
   ]
  },
  {
   "cell_type": "code",
   "execution_count": 4,
   "metadata": {},
   "outputs": [],
   "source": [
    "def parse_drugbank_xml(xml_file_path):\n",
    "    tree = ET.parse(xml_file_path)\n",
    "    root = tree.getroot()\n",
    "\n",
    "    ns = {'db': 'http://www.drugbank.ca'}\n",
    "\n",
    "    drugs = []\n",
    "    atc_codes = []\n",
    "    drugbank_ids = []\n",
    "    pathways = []\n",
    "\n",
    "    for drug in root.findall('db:drug', ns):\n",
    "        drug_name = drug.find('db:name', ns).text if drug.find('db:name', ns) is not None else 'No Name'\n",
    "        drugbank_id = drug.find('db:drugbank-id', ns).text if drug.find('db:drugbank-id', ns) is not None else 'No ID'\n",
    "        \n",
    "        atc_code_elements = drug.findall('db:atc-codes/db:atc-code', ns)\n",
    "        codes = [code.get('code') for code in atc_code_elements] if atc_code_elements else ['No ATC Code']\n",
    "        \n",
    "        pathway_elements = drug.findall('db:pathways/db:pathway/db:name', ns)\n",
    "        drug_pathways = [pathway.text for pathway in pathway_elements] if pathway_elements else ['No Pathways']\n",
    "\n",
    "        drugs.append(drug_name)\n",
    "        drugbank_ids.append(drugbank_id)\n",
    "        atc_codes.append(', '.join(codes))\n",
    "        pathways.append(', '.join(drug_pathways))\n",
    "    \n",
    "    return pd.DataFrame({'Drug': drugs, 'DrugBank ID': drugbank_ids, 'ATC Codes': atc_codes, 'Pathways': pathways})"
   ]
  },
  {
   "cell_type": "code",
   "execution_count": 18,
   "metadata": {},
   "outputs": [],
   "source": [
    "def parse_drugbank_xml(xml_file_path):\n",
    "    tree = ET.parse(xml_file_path)\n",
    "    root = tree.getroot()\n",
    "\n",
    "    ns = {'db': 'http://www.drugbank.ca'}\n",
    "\n",
    "    atc_codes = []\n",
    "    drugbank_ids = []\n",
    "\n",
    "    for drug in root.findall('db:drug', ns):\n",
    "        drugbank_id = drug.find('db:drugbank-id', ns).text if drug.find('db:drugbank-id', ns) is not None else 'No ID'\n",
    "        \n",
    "        atc_code_elements = drug.findall('db:atc-codes/db:atc-code', ns)\n",
    "        codes = [code.get('code') for code in atc_code_elements] if atc_code_elements else ['No ATC Code']\n",
    "\n",
    "        drugbank_ids.append(drugbank_id)\n",
    "        atc_codes.append(', '.join(codes))\n",
    "    \n",
    "    return pd.DataFrame({'DrugBank ID': drugbank_ids, 'ATC Codes': atc_codes})"
   ]
  },
  {
   "cell_type": "code",
   "execution_count": 19,
   "metadata": {},
   "outputs": [
    {
     "name": "stdout",
     "output_type": "stream",
     "text": [
      "  DrugBank ID ATC Codes\n",
      "0     DB00001   B01AE02\n",
      "1     DB00002   L01FE01\n",
      "2     DB00003   R05CB13\n",
      "3     DB00004   L01XX29\n",
      "4     DB00005   L04AB01\n"
     ]
    }
   ],
   "source": [
    "xml_path = 'full_database.xml'\n",
    "df = parse_drugbank_xml(xml_path)\n",
    "print(df.head())\n",
    "#df.to_csv('drugbank_atc_codes_out.csv', index=False)\n",
    "#print(\"CSV file has been created.\")"
   ]
  },
  {
   "cell_type": "code",
   "execution_count": 5,
   "metadata": {},
   "outputs": [
    {
     "name": "stdout",
     "output_type": "stream",
     "text": [
      "  DrugBank ID First letter ATC Codes\n",
      "0     DB00001                      B\n",
      "1     DB00002                      L\n",
      "2     DB00003                      R\n",
      "3     DB00004                      L\n",
      "4     DB00005                      L\n",
      "      DrugBank ID First letter ATC Codes\n",
      "16576     DB18713            No ATC Code\n",
      "16577     DB18714            No ATC Code\n",
      "16578     DB18715            No ATC Code\n",
      "16579     DB18716            No ATC Code\n",
      "16580     DB18717            No ATC Code\n"
     ]
    }
   ],
   "source": [
    "df = pd.read_csv('drugbank_atc_codes_out.csv')\n",
    "\n",
    "df = df.drop(['Drug', 'Pathways'], axis=1)\n",
    "\n",
    "df['ATC Codes'] = df['ATC Codes'].apply(lambda x: x if x == 'No ATC Code' else x.split(',')[0][0])\n",
    "\n",
    "df = df.rename(columns={'ATC Codes': 'First letter ATC Codes'})\n",
    "\n",
    "print(df.head())\n",
    "print(df.tail())"
   ]
  },
  {
   "cell_type": "code",
   "execution_count": 6,
   "metadata": {},
   "outputs": [],
   "source": [
    "df.to_csv('drugbank_drug_and_first_letter_atc_codes.csv', index=False)"
   ]
  },
  {
   "cell_type": "code",
   "execution_count": 7,
   "metadata": {},
   "outputs": [],
   "source": [
    "def assign_groups(df, column_name):\n",
    "    atc_to_group = {}\n",
    "    group_id = 0\n",
    "    \n",
    "    for index, row in df.iterrows():\n",
    "        pathways = row[column_name]\n",
    "        \n",
    "        if pathways not in atc_to_group:\n",
    "            atc_to_group[pathways] = group_id\n",
    "            group_id += 1\n",
    "        \n",
    "        df.at[index, 'group'] = atc_to_group[pathways]\n",
    "    \n",
    "    return df"
   ]
  },
  {
   "cell_type": "code",
   "execution_count": 8,
   "metadata": {},
   "outputs": [
    {
     "name": "stdout",
     "output_type": "stream",
     "text": [
      "  DrugBank ID First letter ATC Codes  group\n",
      "0     DB00001                      B    0.0\n",
      "1     DB00002                      L    1.0\n",
      "2     DB00003                      R    2.0\n",
      "3     DB00004                      L    1.0\n",
      "4     DB00005                      L    1.0\n",
      "      DrugBank ID First letter ATC Codes  group\n",
      "16576     DB18713            No ATC Code    5.0\n",
      "16577     DB18714            No ATC Code    5.0\n",
      "16578     DB18715            No ATC Code    5.0\n",
      "16579     DB18716            No ATC Code    5.0\n",
      "16580     DB18717            No ATC Code    5.0\n"
     ]
    }
   ],
   "source": [
    "df = pd.read_csv('drugbank_drug_and_first_letter_atc_codes.csv')\n",
    "df = assign_groups(df, 'First letter ATC Codes')\n",
    "print(df.head())\n",
    "print(df.tail())"
   ]
  },
  {
   "cell_type": "code",
   "execution_count": 12,
   "metadata": {},
   "outputs": [
    {
     "name": "stdout",
     "output_type": "stream",
     "text": [
      "Group 0: 1.03%\n",
      "Group 1: 2.58%\n",
      "Group 2: 1.30%\n",
      "Group 3: 1.15%\n",
      "Group 4: 0.40%\n",
      "Group 5: 79.07%\n",
      "Group 6: 2.49%\n",
      "Group 7: 1.11%\n",
      "Group 8: 0.98%\n",
      "Group 9: 1.15%\n",
      "Group 10: 2.13%\n",
      "Group 11: 3.08%\n",
      "Group 12: 0.72%\n",
      "Group 13: 2.21%\n",
      "Group 14: 0.60%\n"
     ]
    }
   ],
   "source": [
    "group_counts = df['group'].value_counts(normalize=True) * 100\n",
    "\n",
    "all_groups = pd.Series(range(15))\n",
    "group_percentages = all_groups.map(group_counts).fillna(0)\n",
    "\n",
    "for group, percentage in group_percentages.items():\n",
    "    print(f\"Group {group}: {percentage:.2f}%\")"
   ]
  },
  {
   "cell_type": "code",
   "execution_count": 13,
   "metadata": {},
   "outputs": [
    {
     "name": "stdout",
     "output_type": "stream",
     "text": [
      "  drugbankId      chembl_id\n",
      "0    DB13088  CHEMBL3545177\n",
      "1    DB13089   CHEMBL230006\n",
      "2    DB13082   CHEMBL260829\n",
      "3    DB13083   CHEMBL459505\n",
      "4    DB13080            NaN\n"
     ]
    }
   ],
   "source": [
    "df_tsv = pd.read_csv('drug-mappings.tsv', sep='\\t')\n",
    "df_mappings = df_tsv[['drugbankId', 'chembl_id']]\n",
    "print(df_mappings.head())"
   ]
  },
  {
   "cell_type": "code",
   "execution_count": 14,
   "metadata": {},
   "outputs": [
    {
     "name": "stdout",
     "output_type": "stream",
     "text": [
      "  DrugBank ID First letter ATC Codes  group      chembl_id\n",
      "0     DB00001                      B    0.0  CHEMBL1201666\n",
      "1     DB00002                      L    1.0  CHEMBL1201577\n",
      "2     DB00003                      R    2.0  CHEMBL1201431\n",
      "3     DB00004                      L    1.0  CHEMBL1201550\n",
      "4     DB00005                      L    1.0  CHEMBL1201572\n"
     ]
    }
   ],
   "source": [
    "df2 = pd.merge(df, df_mappings, left_on='DrugBank ID', right_on='drugbankId', how='left')\n",
    "\n",
    "# drop the extra 'drugbankId' column if it exists after merging\n",
    "df2.drop('drugbankId', axis=1, inplace=True)\n",
    "\n",
    "print(df2.head())"
   ]
  },
  {
   "cell_type": "code",
   "execution_count": 16,
   "metadata": {},
   "outputs": [],
   "source": [
    "df2.to_csv('drugbank_id_ATC_group_chembl_id.csv', index=False)"
   ]
  },
  {
   "cell_type": "code",
   "execution_count": 15,
   "metadata": {},
   "outputs": [
    {
     "name": "stdout",
     "output_type": "stream",
     "text": [
      "Number of drugs without ATC codes: 13111\n",
      "Total number of drugs: 16581\n",
      "Percentage of drugs without ATC codes: 79.07%\n"
     ]
    }
   ],
   "source": [
    "count = 0\n",
    "for row in df.itertuples():\n",
    "    if row._2 == 'No ATC Code':\n",
    "        count+=1\n",
    "\n",
    "print(f\"Number of drugs without ATC codes: {count}\")\n",
    "print(f\"Total number of drugs: {len(df)}\")\n",
    "print(f\"Percentage of drugs without ATC codes: {count/len(df)*100:.2f}%\")"
   ]
  },
  {
   "cell_type": "markdown",
   "metadata": {},
   "source": [
    "from ./download/drugbank_drug_targets.csv which is a dataframe consisting of 2 columsn called 'DrugBank ID', 'target'\n",
    "load drugbank_drug_targets as a pandas dataframe\n",
    "from /full_database/drugbank_atc_codes_out.csv\n",
    "load drugbank_atc_codes_out as a pandas dataframe\n",
    "for every drug entry in drugbank_drug_targets, find the corresponding drug entry in drugbank_atc_codes_out and append the entire row to the dataframe\n",
    "the new dataframe should look like 'DrugBank ID', 'target', 'Drug', 'DrugBank ID', 'ATC Codes', and 'Pathways'\n",
    "then drop the 'DrugBank ID' 4th column\n",
    "now sort the dataframe by the 'Pathways' in descending order\n",
    "convert the dataframe to a csv"
   ]
  },
  {
   "cell_type": "code",
   "execution_count": 11,
   "metadata": {},
   "outputs": [],
   "source": [
    "def merge_and_sort_data(drug_targets_path, atc_codes_path, output_csv_path):\n",
    "    drug_targets_df = pd.read_csv(drug_targets_path)\n",
    "    atc_codes_df = pd.read_csv(atc_codes_path)\n",
    "\n",
    "    drug_targets_df = drug_targets_df.rename(columns={'drug': 'DrugBank ID'})\n",
    "\n",
    "    merged_df = pd.merge(drug_targets_df, atc_codes_df, on='DrugBank ID', how='left')\n",
    "    \n",
    "    merged_df.sort_values(by='Pathways', ascending=False, inplace=True)\n",
    "\n",
    "    # drop the duplicate 'DrugBank ID' column\n",
    "    merged_df.drop(merged_df.columns[3], axis=1, inplace=True)\n",
    "    \n",
    "    merged_df.to_csv(output_csv_path, index=False)\n",
    "    \n",
    "    print(\"First 10 elements:\")\n",
    "    print(merged_df.head(10))\n",
    "    print(\"\\nLast 10 elements:\")\n",
    "    print(merged_df.tail(10))"
   ]
  },
  {
   "cell_type": "code",
   "execution_count": null,
   "metadata": {},
   "outputs": [],
   "source": [
    "merge_and_sort_data('../download/drugbank_drug_targets.csv',\n",
    "                    'drugbank_atc_codes_out.csv',\n",
    "                    'merged_data.csv')"
   ]
  },
  {
   "cell_type": "code",
   "execution_count": 6,
   "metadata": {},
   "outputs": [
    {
     "name": "stdout",
     "output_type": "stream",
     "text": [
      "  DrugBank ID     target          Drug   \n",
      "0     DB03088  BE0002942  Pidolic acid  \\\n",
      "0     DB03088  BE0002942  Pidolic acid   \n",
      "0     DB03088  BE0002942  Pidolic acid   \n",
      "0     DB03088  BE0002942  Pidolic acid   \n",
      "0     DB03088  BE0002942  Pidolic acid   \n",
      "0     DB03088  BE0002942  Pidolic acid   \n",
      "1     DB03088  BE0001671  Pidolic acid   \n",
      "1     DB03088  BE0001671  Pidolic acid   \n",
      "1     DB03088  BE0001671  Pidolic acid   \n",
      "1     DB03088  BE0001671  Pidolic acid   \n",
      "\n",
      "                                   Pathway  \n",
      "0  gamma-Glutamyltranspeptidase Deficiency  \n",
      "0     gamma-Glutamyltransferase Deficiency  \n",
      "0                5-Oxoprolinase Deficiency  \n",
      "0                   Glutathione Metabolism  \n",
      "0                          5-Oxoprolinuria  \n",
      "0        Glutathione Synthetase Deficiency  \n",
      "1  gamma-Glutamyltranspeptidase Deficiency  \n",
      "1     gamma-Glutamyltransferase Deficiency  \n",
      "1                5-Oxoprolinase Deficiency  \n",
      "1                   Glutathione Metabolism  \n",
      "      DrugBank ID     target Drug Pathway\n",
      "13668     DB08567  BE0003930  NaN     NaN\n",
      "13669     DB08584  BE0000915  NaN     NaN\n",
      "13670     DB08592  BE0002050  NaN     NaN\n",
      "13671     DB08650  BE0004364  NaN     NaN\n",
      "13672     DB08650  BE0004365  NaN     NaN\n",
      "13673     DB08679  BE0001594  NaN     NaN\n",
      "13674     DB08696  BE0000779  NaN     NaN\n",
      "13675     DB08696  BE0004382  NaN     NaN\n",
      "13676     DB08700  BE0000915  NaN     NaN\n",
      "13677     DB08764  BE0002411  NaN     NaN\n"
     ]
    }
   ],
   "source": [
    "df = pd.read_csv('merged_data.csv')\n",
    "\n",
    "split_df = df.assign(Pathways=df['Pathways'].str.split(', ')).explode('Pathways')\n",
    "split_df = split_df.rename(columns={'Pathways' : 'Pathway'})\n",
    "\n",
    "print(split_df.head())\n",
    "print(split_df.tail())"
   ]
  },
  {
   "cell_type": "code",
   "execution_count": 7,
   "metadata": {},
   "outputs": [
    {
     "name": "stdout",
     "output_type": "stream",
     "text": [
      "<bound method NDFrame.head of       DrugBank ID     target          Drug   \n",
      "0         DB03088  BE0002942  Pidolic acid  \\\n",
      "0         DB03088  BE0002942  Pidolic acid   \n",
      "0         DB03088  BE0002942  Pidolic acid   \n",
      "0         DB03088  BE0002942  Pidolic acid   \n",
      "0         DB03088  BE0002942  Pidolic acid   \n",
      "...           ...        ...           ...   \n",
      "13673     DB08679  BE0001594           NaN   \n",
      "13674     DB08696  BE0000779           NaN   \n",
      "13675     DB08696  BE0004382           NaN   \n",
      "13676     DB08700  BE0000915           NaN   \n",
      "13677     DB08764  BE0002411           NaN   \n",
      "\n",
      "                                       Pathway  \n",
      "0      gamma-Glutamyltranspeptidase Deficiency  \n",
      "0         gamma-Glutamyltransferase Deficiency  \n",
      "0                    5-Oxoprolinase Deficiency  \n",
      "0                       Glutathione Metabolism  \n",
      "0                              5-Oxoprolinuria  \n",
      "...                                        ...  \n",
      "13673                                      NaN  \n",
      "13674                                      NaN  \n",
      "13675                                      NaN  \n",
      "13676                                      NaN  \n",
      "13677                                      NaN  \n",
      "\n",
      "[48591 rows x 4 columns]>\n",
      "<bound method NDFrame.tail of       DrugBank ID     target          Drug   \n",
      "0         DB03088  BE0002942  Pidolic acid  \\\n",
      "0         DB03088  BE0002942  Pidolic acid   \n",
      "0         DB03088  BE0002942  Pidolic acid   \n",
      "0         DB03088  BE0002942  Pidolic acid   \n",
      "0         DB03088  BE0002942  Pidolic acid   \n",
      "...           ...        ...           ...   \n",
      "13673     DB08679  BE0001594           NaN   \n",
      "13674     DB08696  BE0000779           NaN   \n",
      "13675     DB08696  BE0004382           NaN   \n",
      "13676     DB08700  BE0000915           NaN   \n",
      "13677     DB08764  BE0002411           NaN   \n",
      "\n",
      "                                       Pathway  \n",
      "0      gamma-Glutamyltranspeptidase Deficiency  \n",
      "0         gamma-Glutamyltransferase Deficiency  \n",
      "0                    5-Oxoprolinase Deficiency  \n",
      "0                       Glutathione Metabolism  \n",
      "0                              5-Oxoprolinuria  \n",
      "...                                        ...  \n",
      "13673                                      NaN  \n",
      "13674                                      NaN  \n",
      "13675                                      NaN  \n",
      "13676                                      NaN  \n",
      "13677                                      NaN  \n",
      "\n",
      "[48591 rows x 4 columns]>\n"
     ]
    }
   ],
   "source": [
    "sorted_df = split_df.sort_values(by='Pathway', ascending=False)\n",
    "print(split_df.head)\n",
    "print(split_df.tail)"
   ]
  },
  {
   "cell_type": "code",
   "execution_count": 8,
   "metadata": {},
   "outputs": [
    {
     "name": "stdout",
     "output_type": "stream",
     "text": [
      "Number of unique pathways: 856\n"
     ]
    }
   ],
   "source": [
    "print(\"Number of unique pathways:\", sorted_df['Pathway'].nunique())"
   ]
  },
  {
   "cell_type": "code",
   "execution_count": 9,
   "metadata": {},
   "outputs": [
    {
     "name": "stdout",
     "output_type": "stream",
     "text": [
      "Total number of unique drugs with non-NaN pathways: 5928\n",
      "Total number of unique drugs: 6029\n"
     ]
    }
   ],
   "source": [
    "valid_pathways_df = sorted_df.dropna(subset=['Pathway'])\n",
    "\n",
    "num_unique_drugs_with_pathways = valid_pathways_df['DrugBank ID'].nunique()\n",
    "\n",
    "print(\"Total number of unique drugs with non-NaN pathways:\", num_unique_drugs_with_pathways)\n",
    "\n",
    "drug_targets_df = pd.read_csv(\"../download/drugbank_drug_targets.csv\")\n",
    "print(\"Total number of unique drugs:\", drug_targets_df['drug'].nunique())\n",
    "#print(\"Total number of unique targets:\", drug_targets_df['target'].nunique())\n"
   ]
  },
  {
   "cell_type": "code",
   "execution_count": 10,
   "metadata": {},
   "outputs": [],
   "source": [
    "valid_pathways_df.to_csv('valid_pathways_df.csv', index=False)"
   ]
  },
  {
   "cell_type": "code",
   "execution_count": 7,
   "metadata": {},
   "outputs": [
    {
     "name": "stdout",
     "output_type": "stream",
     "text": [
      "      DrugBank ID     target  group\n",
      "0         DB03088  BE0002942    0.0\n",
      "1         DB03088  BE0001671    0.0\n",
      "2         DB03088  BE0002941    0.0\n",
      "3         DB03088  BE0002940    0.0\n",
      "4         DB03088  BE0002939    0.0\n",
      "...           ...        ...    ...\n",
      "13455     DB01536  BE0000194  505.0\n",
      "13456     DB01536  BE0000051  505.0\n",
      "13457     DB01536  BE0001638  505.0\n",
      "13458     DB00624  BE0000132  505.0\n",
      "13459     DB07447  BE0003610  506.0\n",
      "\n",
      "[13460 rows x 3 columns]\n"
     ]
    }
   ],
   "source": [
    "data = pd.read_csv('merged_data.csv')\n",
    "df = pd.DataFrame(data)\n",
    "df = df.dropna(subset=['Pathways'])\n",
    "df = assign_groups(df)\n",
    "df = df.drop(columns=['Drug', 'Pathways'])\n",
    "print(df)"
   ]
  },
  {
   "cell_type": "code",
   "execution_count": 8,
   "metadata": {},
   "outputs": [],
   "source": [
    "df.to_csv('groups.csv', index=False)\n"
   ]
  },
  {
   "cell_type": "code",
   "execution_count": 2,
   "metadata": {},
   "outputs": [
    {
     "name": "stdout",
     "output_type": "stream",
     "text": [
      "Requirement already satisfied: requests in c:\\users\\sibux\\appdata\\local\\programs\\python\\python310\\lib\\site-packages (2.31.0)\n",
      "Requirement already satisfied: charset-normalizer<4,>=2 in c:\\users\\sibux\\appdata\\local\\programs\\python\\python310\\lib\\site-packages (from requests) (3.1.0)\n",
      "Requirement already satisfied: idna<4,>=2.5 in c:\\users\\sibux\\appdata\\local\\programs\\python\\python310\\lib\\site-packages (from requests) (3.4)\n",
      "Requirement already satisfied: urllib3<3,>=1.21.1 in c:\\users\\sibux\\appdata\\local\\programs\\python\\python310\\lib\\site-packages (from requests) (1.26.18)\n",
      "Requirement already satisfied: certifi>=2017.4.17 in c:\\users\\sibux\\appdata\\local\\programs\\python\\python310\\lib\\site-packages (from requests) (2023.5.7)\n"
     ]
    }
   ],
   "source": [
    "! pip install requests"
   ]
  },
  {
   "cell_type": "code",
   "execution_count": 3,
   "metadata": {},
   "outputs": [],
   "source": [
    "import requests"
   ]
  },
  {
   "cell_type": "code",
   "execution_count": 7,
   "metadata": {},
   "outputs": [
    {
     "name": "stdout",
     "output_type": "stream",
     "text": [
      "Failed to retrieve data from UniChem, status code: 404\n"
     ]
    }
   ],
   "source": [
    "def get_drugbank_id_from_chembl(full_chembl_id):\n",
    "    chembl_id = full_chembl_id.split(':')[-1]\n",
    "    \n",
    "    # Confirming that the format to fetch connections from ChEMBL (source_id 1) to DrugBank (source_id 2) is correct\n",
    "    unichem_url = f\"https://www.ebi.ac.uk/unichem/rest/src_compound_id/{chembl_id}/1/2\"\n",
    "    \n",
    "    try:\n",
    "        response = requests.get(unichem_url)\n",
    "        if response.status_code == 200:\n",
    "            data = response.json()\n",
    "            return [x['src_compound_id'] for x in data] if data else \"No DrugBank ID found for this ChEMBL ID.\"\n",
    "        else:\n",
    "            return f\"Failed to retrieve data from UniChem, status code: {response.status_code}\"\n",
    "    except Exception as e:\n",
    "        return f\"An error occurred: {str(e)}\"\n",
    "    \n",
    "full_chembl_id = \"CHEMBL.COMPOUND:CHEMBL1200531\"\n",
    "drugbank_ids = get_drugbank_id_from_chembl(full_chembl_id)\n",
    "print(drugbank_ids)\n"
   ]
  },
  {
   "cell_type": "code",
   "execution_count": 15,
   "metadata": {},
   "outputs": [
    {
     "name": "stdout",
     "output_type": "stream",
     "text": [
      "Failed to retrieve data from UniChem, status code: 404\n",
      "Failed to retrieve data from UniChem, status code: 404\n",
      "Failed to retrieve data from UniChem, status code: 404\n",
      "Failed to retrieve data from UniChem, status code: 404\n",
      "Failed to retrieve data from UniChem, status code: 404\n",
      "Failed to retrieve data from UniChem, status code: 404\n",
      "Failed to retrieve data from UniChem, status code: 404\n",
      "Failed to retrieve data from UniChem, status code: 404\n",
      "Failed to retrieve data from UniChem, status code: 404\n",
      "Failed to retrieve data from UniChem, status code: 404\n",
      "Failed to retrieve data from UniChem, status code: 404\n",
      "Failed to retrieve data from UniChem, status code: 404\n",
      "Failed to retrieve data from UniChem, status code: 404\n",
      "Failed to retrieve data from UniChem, status code: 404\n",
      "Failed to retrieve data from UniChem, status code: 404\n",
      "Failed to retrieve data from UniChem, status code: 404\n",
      "Failed to retrieve data from UniChem, status code: 404\n",
      "Failed to retrieve data from UniChem, status code: 404\n",
      "Failed to retrieve data from UniChem, status code: 404\n",
      "Failed to retrieve data from UniChem, status code: 404\n",
      "Failed to retrieve data from UniChem, status code: 404\n",
      "Failed to retrieve data from UniChem, status code: 404\n",
      "Failed to retrieve data from UniChem, status code: 404\n",
      "Failed to retrieve data from UniChem, status code: 404\n",
      "Failed to retrieve data from UniChem, status code: 404\n",
      "Failed to retrieve data from UniChem, status code: 404\n",
      "Failed to retrieve data from UniChem, status code: 404\n",
      "Failed to retrieve data from UniChem, status code: 404\n",
      "Failed to retrieve data from UniChem, status code: 404\n",
      "Failed to retrieve data from UniChem, status code: 404\n",
      "Failed to retrieve data from UniChem, status code: 404\n",
      "Failed to retrieve data from UniChem, status code: 404\n",
      "Failed to retrieve data from UniChem, status code: 404\n",
      "Failed to retrieve data from UniChem, status code: 404\n",
      "Failed to retrieve data from UniChem, status code: 404\n",
      "Failed to retrieve data from UniChem, status code: 404\n",
      "Failed to retrieve data from UniChem, status code: 404\n",
      "Failed to retrieve data from UniChem, status code: 404\n",
      "Failed to retrieve data from UniChem, status code: 404\n",
      "Failed to retrieve data from UniChem, status code: 404\n",
      "Failed to retrieve data from UniChem, status code: 404\n",
      "Failed to retrieve data from UniChem, status code: 404\n",
      "Failed to retrieve data from UniChem, status code: 404\n",
      "Failed to retrieve data from UniChem, status code: 404\n",
      "Failed to retrieve data from UniChem, status code: 404\n",
      "Failed to retrieve data from UniChem, status code: 404\n",
      "Failed to retrieve data from UniChem, status code: 404\n",
      "Failed to retrieve data from UniChem, status code: 404\n",
      "Failed to retrieve data from UniChem, status code: 404\n",
      "Failed to retrieve data from UniChem, status code: 404\n",
      "Failed to retrieve data from UniChem, status code: 404\n",
      "Failed to retrieve data from UniChem, status code: 404\n",
      "Failed to retrieve data from UniChem, status code: 404\n",
      "Failed to retrieve data from UniChem, status code: 404\n",
      "Failed to retrieve data from UniChem, status code: 404\n",
      "Failed to retrieve data from UniChem, status code: 404\n",
      "Failed to retrieve data from UniChem, status code: 404\n",
      "Failed to retrieve data from UniChem, status code: 404\n",
      "Failed to retrieve data from UniChem, status code: 404\n",
      "Failed to retrieve data from UniChem, status code: 404\n",
      "Failed to retrieve data from UniChem, status code: 404\n",
      "Failed to retrieve data from UniChem, status code: 404\n",
      "Failed to retrieve data from UniChem, status code: 404\n",
      "Failed to retrieve data from UniChem, status code: 404\n",
      "Failed to retrieve data from UniChem, status code: 404\n",
      "Failed to retrieve data from UniChem, status code: 404\n",
      "Failed to retrieve data from UniChem, status code: 404\n",
      "Failed to retrieve data from UniChem, status code: 404\n",
      "Failed to retrieve data from UniChem, status code: 404\n",
      "Failed to retrieve data from UniChem, status code: 404\n",
      "Failed to retrieve data from UniChem, status code: 404\n",
      "Failed to retrieve data from UniChem, status code: 404\n",
      "Failed to retrieve data from UniChem, status code: 404\n",
      "Failed to retrieve data from UniChem, status code: 404\n",
      "Failed to retrieve data from UniChem, status code: 404\n",
      "Failed to retrieve data from UniChem, status code: 404\n",
      "Failed to retrieve data from UniChem, status code: 404\n",
      "Failed to retrieve data from UniChem, status code: 404\n",
      "Failed to retrieve data from UniChem, status code: 404\n",
      "Failed to retrieve data from UniChem, status code: 404\n",
      "Failed to retrieve data from UniChem, status code: 404\n",
      "Failed to retrieve data from UniChem, status code: 404\n",
      "Failed to retrieve data from UniChem, status code: 404\n",
      "Failed to retrieve data from UniChem, status code: 404\n",
      "Failed to retrieve data from UniChem, status code: 404\n",
      "Failed to retrieve data from UniChem, status code: 404\n",
      "Failed to retrieve data from UniChem, status code: 404\n",
      "Failed to retrieve data from UniChem, status code: 404\n",
      "Failed to retrieve data from UniChem, status code: 404\n",
      "Failed to retrieve data from UniChem, status code: 404\n",
      "Failed to retrieve data from UniChem, status code: 404\n",
      "Failed to retrieve data from UniChem, status code: 404\n",
      "Failed to retrieve data from UniChem, status code: 404\n",
      "Failed to retrieve data from UniChem, status code: 404\n",
      "Failed to retrieve data from UniChem, status code: 404\n",
      "Failed to retrieve data from UniChem, status code: 404\n",
      "Failed to retrieve data from UniChem, status code: 404\n",
      "Failed to retrieve data from UniChem, status code: 404\n",
      "Failed to retrieve data from UniChem, status code: 404\n",
      "Failed to retrieve data from UniChem, status code: 404\n",
      "Failed to retrieve data from UniChem, status code: 404\n",
      "Failed to retrieve data from UniChem, status code: 404\n",
      "Failed to retrieve data from UniChem, status code: 404\n",
      "Failed to retrieve data from UniChem, status code: 404\n",
      "Failed to retrieve data from UniChem, status code: 404\n",
      "Failed to retrieve data from UniChem, status code: 404\n",
      "Failed to retrieve data from UniChem, status code: 404\n",
      "Failed to retrieve data from UniChem, status code: 404\n",
      "Failed to retrieve data from UniChem, status code: 404\n",
      "Failed to retrieve data from UniChem, status code: 404\n",
      "Failed to retrieve data from UniChem, status code: 404\n",
      "Failed to retrieve data from UniChem, status code: 404\n",
      "Failed to retrieve data from UniChem, status code: 404\n",
      "Failed to retrieve data from UniChem, status code: 404\n",
      "Failed to retrieve data from UniChem, status code: 404\n",
      "Failed to retrieve data from UniChem, status code: 404\n",
      "Failed to retrieve data from UniChem, status code: 404\n",
      "Failed to retrieve data from UniChem, status code: 404\n",
      "Failed to retrieve data from UniChem, status code: 404\n",
      "Failed to retrieve data from UniChem, status code: 404\n",
      "Failed to retrieve data from UniChem, status code: 404\n",
      "Failed to retrieve data from UniChem, status code: 404\n",
      "Failed to retrieve data from UniChem, status code: 404\n",
      "Failed to retrieve data from UniChem, status code: 404\n",
      "Failed to retrieve data from UniChem, status code: 404\n",
      "Failed to retrieve data from UniChem, status code: 404\n",
      "Failed to retrieve data from UniChem, status code: 404\n",
      "Failed to retrieve data from UniChem, status code: 404\n",
      "Failed to retrieve data from UniChem, status code: 404\n",
      "Failed to retrieve data from UniChem, status code: 404\n",
      "Failed to retrieve data from UniChem, status code: 404\n",
      "Failed to retrieve data from UniChem, status code: 404\n",
      "Failed to retrieve data from UniChem, status code: 404\n",
      "Failed to retrieve data from UniChem, status code: 404\n",
      "Failed to retrieve data from UniChem, status code: 404\n",
      "Failed to retrieve data from UniChem, status code: 404\n",
      "Failed to retrieve data from UniChem, status code: 404\n",
      "Failed to retrieve data from UniChem, status code: 404\n",
      "Failed to retrieve data from UniChem, status code: 404\n",
      "Failed to retrieve data from UniChem, status code: 404\n",
      "Failed to retrieve data from UniChem, status code: 404\n",
      "Failed to retrieve data from UniChem, status code: 404\n",
      "Failed to retrieve data from UniChem, status code: 404\n",
      "Failed to retrieve data from UniChem, status code: 404\n",
      "Failed to retrieve data from UniChem, status code: 404\n",
      "Failed to retrieve data from UniChem, status code: 404\n",
      "Failed to retrieve data from UniChem, status code: 404\n",
      "Failed to retrieve data from UniChem, status code: 404\n",
      "Failed to retrieve data from UniChem, status code: 404\n",
      "Failed to retrieve data from UniChem, status code: 404\n",
      "Failed to retrieve data from UniChem, status code: 404\n",
      "Failed to retrieve data from UniChem, status code: 404\n",
      "Failed to retrieve data from UniChem, status code: 404\n",
      "Failed to retrieve data from UniChem, status code: 404\n",
      "Failed to retrieve data from UniChem, status code: 404\n",
      "Failed to retrieve data from UniChem, status code: 404\n",
      "Failed to retrieve data from UniChem, status code: 404\n",
      "Failed to retrieve data from UniChem, status code: 404\n",
      "Failed to retrieve data from UniChem, status code: 404\n",
      "Failed to retrieve data from UniChem, status code: 404\n",
      "Failed to retrieve data from UniChem, status code: 404\n",
      "Failed to retrieve data from UniChem, status code: 404\n",
      "Failed to retrieve data from UniChem, status code: 404\n",
      "Failed to retrieve data from UniChem, status code: 404\n",
      "Failed to retrieve data from UniChem, status code: 404\n",
      "Failed to retrieve data from UniChem, status code: 404\n",
      "Failed to retrieve data from UniChem, status code: 404\n",
      "Failed to retrieve data from UniChem, status code: 404\n",
      "Failed to retrieve data from UniChem, status code: 404\n",
      "Failed to retrieve data from UniChem, status code: 404\n",
      "Failed to retrieve data from UniChem, status code: 404\n",
      "Failed to retrieve data from UniChem, status code: 404\n",
      "Failed to retrieve data from UniChem, status code: 404\n",
      "Failed to retrieve data from UniChem, status code: 404\n",
      "Failed to retrieve data from UniChem, status code: 404\n",
      "Failed to retrieve data from UniChem, status code: 404\n",
      "Failed to retrieve data from UniChem, status code: 404\n",
      "Failed to retrieve data from UniChem, status code: 404\n",
      "Failed to retrieve data from UniChem, status code: 404\n",
      "Failed to retrieve data from UniChem, status code: 404\n",
      "Failed to retrieve data from UniChem, status code: 404\n",
      "Failed to retrieve data from UniChem, status code: 404\n",
      "Failed to retrieve data from UniChem, status code: 404\n",
      "Failed to retrieve data from UniChem, status code: 404\n",
      "Failed to retrieve data from UniChem, status code: 404\n",
      "Failed to retrieve data from UniChem, status code: 404\n",
      "Failed to retrieve data from UniChem, status code: 404\n",
      "Failed to retrieve data from UniChem, status code: 404\n",
      "Failed to retrieve data from UniChem, status code: 404\n",
      "Failed to retrieve data from UniChem, status code: 404\n",
      "Failed to retrieve data from UniChem, status code: 404\n",
      "Failed to retrieve data from UniChem, status code: 404\n",
      "Failed to retrieve data from UniChem, status code: 404\n",
      "Failed to retrieve data from UniChem, status code: 404\n",
      "Failed to retrieve data from UniChem, status code: 404\n",
      "Failed to retrieve data from UniChem, status code: 404\n",
      "Failed to retrieve data from UniChem, status code: 404\n",
      "Failed to retrieve data from UniChem, status code: 404\n",
      "Failed to retrieve data from UniChem, status code: 404\n",
      "Failed to retrieve data from UniChem, status code: 404\n",
      "Failed to retrieve data from UniChem, status code: 404\n",
      "Failed to retrieve data from UniChem, status code: 404\n",
      "Failed to retrieve data from UniChem, status code: 404\n",
      "Failed to retrieve data from UniChem, status code: 404\n",
      "Failed to retrieve data from UniChem, status code: 404\n",
      "Failed to retrieve data from UniChem, status code: 404\n",
      "Failed to retrieve data from UniChem, status code: 404\n",
      "Failed to retrieve data from UniChem, status code: 404\n",
      "Failed to retrieve data from UniChem, status code: 404\n",
      "Failed to retrieve data from UniChem, status code: 404\n"
     ]
    },
    {
     "ename": "KeyboardInterrupt",
     "evalue": "",
     "output_type": "error",
     "traceback": [
      "\u001b[1;31m---------------------------------------------------------------------------\u001b[0m",
      "\u001b[1;31mKeyboardInterrupt\u001b[0m                         Traceback (most recent call last)",
      "Cell \u001b[1;32mIn[15], line 6\u001b[0m\n\u001b[0;32m      3\u001b[0m \u001b[38;5;28mlist\u001b[39m \u001b[38;5;241m=\u001b[39m df[\u001b[38;5;241m1\u001b[39m]\u001b[38;5;241m.\u001b[39mtolist()\n\u001b[0;32m      5\u001b[0m \u001b[38;5;28;01mfor\u001b[39;00m \u001b[38;5;28mid\u001b[39m \u001b[38;5;129;01min\u001b[39;00m \u001b[38;5;28mlist\u001b[39m:\n\u001b[1;32m----> 6\u001b[0m     drugbank_ids \u001b[38;5;241m=\u001b[39m \u001b[43mget_drugbank_id_from_chembl\u001b[49m\u001b[43m(\u001b[49m\u001b[38;5;28;43mid\u001b[39;49m\u001b[43m)\u001b[49m\n\u001b[0;32m      7\u001b[0m     \u001b[38;5;28mprint\u001b[39m(drugbank_ids)\n",
      "Cell \u001b[1;32mIn[7], line 11\u001b[0m, in \u001b[0;36mget_drugbank_id_from_chembl\u001b[1;34m(full_chembl_id)\u001b[0m\n\u001b[0;32m      9\u001b[0m \u001b[38;5;66;03m# Send a GET request to the UniChem API\u001b[39;00m\n\u001b[0;32m     10\u001b[0m \u001b[38;5;28;01mtry\u001b[39;00m:\n\u001b[1;32m---> 11\u001b[0m     response \u001b[38;5;241m=\u001b[39m \u001b[43mrequests\u001b[49m\u001b[38;5;241;43m.\u001b[39;49m\u001b[43mget\u001b[49m\u001b[43m(\u001b[49m\u001b[43munichem_url\u001b[49m\u001b[43m)\u001b[49m\n\u001b[0;32m     12\u001b[0m     \u001b[38;5;66;03m# If the status code indicates success, parse the data\u001b[39;00m\n\u001b[0;32m     13\u001b[0m     \u001b[38;5;28;01mif\u001b[39;00m response\u001b[38;5;241m.\u001b[39mstatus_code \u001b[38;5;241m==\u001b[39m \u001b[38;5;241m200\u001b[39m:\n",
      "File \u001b[1;32mc:\\Users\\SiBuX\\AppData\\Local\\Programs\\Python\\Python310\\lib\\site-packages\\requests\\api.py:73\u001b[0m, in \u001b[0;36mget\u001b[1;34m(url, params, **kwargs)\u001b[0m\n\u001b[0;32m     62\u001b[0m \u001b[38;5;28;01mdef\u001b[39;00m \u001b[38;5;21mget\u001b[39m(url, params\u001b[38;5;241m=\u001b[39m\u001b[38;5;28;01mNone\u001b[39;00m, \u001b[38;5;241m*\u001b[39m\u001b[38;5;241m*\u001b[39mkwargs):\n\u001b[0;32m     63\u001b[0m \u001b[38;5;250m    \u001b[39m\u001b[38;5;124mr\u001b[39m\u001b[38;5;124;03m\"\"\"Sends a GET request.\u001b[39;00m\n\u001b[0;32m     64\u001b[0m \n\u001b[0;32m     65\u001b[0m \u001b[38;5;124;03m    :param url: URL for the new :class:`Request` object.\u001b[39;00m\n\u001b[1;32m   (...)\u001b[0m\n\u001b[0;32m     70\u001b[0m \u001b[38;5;124;03m    :rtype: requests.Response\u001b[39;00m\n\u001b[0;32m     71\u001b[0m \u001b[38;5;124;03m    \"\"\"\u001b[39;00m\n\u001b[1;32m---> 73\u001b[0m     \u001b[38;5;28;01mreturn\u001b[39;00m request(\u001b[38;5;124m\"\u001b[39m\u001b[38;5;124mget\u001b[39m\u001b[38;5;124m\"\u001b[39m, url, params\u001b[38;5;241m=\u001b[39mparams, \u001b[38;5;241m*\u001b[39m\u001b[38;5;241m*\u001b[39mkwargs)\n",
      "File \u001b[1;32mc:\\Users\\SiBuX\\AppData\\Local\\Programs\\Python\\Python310\\lib\\site-packages\\requests\\api.py:59\u001b[0m, in \u001b[0;36mrequest\u001b[1;34m(method, url, **kwargs)\u001b[0m\n\u001b[0;32m     55\u001b[0m \u001b[38;5;66;03m# By using the 'with' statement we are sure the session is closed, thus we\u001b[39;00m\n\u001b[0;32m     56\u001b[0m \u001b[38;5;66;03m# avoid leaving sockets open which can trigger a ResourceWarning in some\u001b[39;00m\n\u001b[0;32m     57\u001b[0m \u001b[38;5;66;03m# cases, and look like a memory leak in others.\u001b[39;00m\n\u001b[0;32m     58\u001b[0m \u001b[38;5;28;01mwith\u001b[39;00m sessions\u001b[38;5;241m.\u001b[39mSession() \u001b[38;5;28;01mas\u001b[39;00m session:\n\u001b[1;32m---> 59\u001b[0m     \u001b[38;5;28;01mreturn\u001b[39;00m session\u001b[38;5;241m.\u001b[39mrequest(method\u001b[38;5;241m=\u001b[39mmethod, url\u001b[38;5;241m=\u001b[39murl, \u001b[38;5;241m*\u001b[39m\u001b[38;5;241m*\u001b[39mkwargs)\n",
      "File \u001b[1;32mc:\\Users\\SiBuX\\AppData\\Local\\Programs\\Python\\Python310\\lib\\site-packages\\requests\\sessions.py:589\u001b[0m, in \u001b[0;36mSession.request\u001b[1;34m(self, method, url, params, data, headers, cookies, files, auth, timeout, allow_redirects, proxies, hooks, stream, verify, cert, json)\u001b[0m\n\u001b[0;32m    584\u001b[0m send_kwargs \u001b[38;5;241m=\u001b[39m {\n\u001b[0;32m    585\u001b[0m     \u001b[38;5;124m\"\u001b[39m\u001b[38;5;124mtimeout\u001b[39m\u001b[38;5;124m\"\u001b[39m: timeout,\n\u001b[0;32m    586\u001b[0m     \u001b[38;5;124m\"\u001b[39m\u001b[38;5;124mallow_redirects\u001b[39m\u001b[38;5;124m\"\u001b[39m: allow_redirects,\n\u001b[0;32m    587\u001b[0m }\n\u001b[0;32m    588\u001b[0m send_kwargs\u001b[38;5;241m.\u001b[39mupdate(settings)\n\u001b[1;32m--> 589\u001b[0m resp \u001b[38;5;241m=\u001b[39m \u001b[38;5;28mself\u001b[39m\u001b[38;5;241m.\u001b[39msend(prep, \u001b[38;5;241m*\u001b[39m\u001b[38;5;241m*\u001b[39msend_kwargs)\n\u001b[0;32m    591\u001b[0m \u001b[38;5;28;01mreturn\u001b[39;00m resp\n",
      "File \u001b[1;32mc:\\Users\\SiBuX\\AppData\\Local\\Programs\\Python\\Python310\\lib\\site-packages\\requests\\sessions.py:703\u001b[0m, in \u001b[0;36mSession.send\u001b[1;34m(self, request, **kwargs)\u001b[0m\n\u001b[0;32m    700\u001b[0m start \u001b[38;5;241m=\u001b[39m preferred_clock()\n\u001b[0;32m    702\u001b[0m \u001b[38;5;66;03m# Send the request\u001b[39;00m\n\u001b[1;32m--> 703\u001b[0m r \u001b[38;5;241m=\u001b[39m adapter\u001b[38;5;241m.\u001b[39msend(request, \u001b[38;5;241m*\u001b[39m\u001b[38;5;241m*\u001b[39mkwargs)\n\u001b[0;32m    705\u001b[0m \u001b[38;5;66;03m# Total elapsed time of the request (approximately)\u001b[39;00m\n\u001b[0;32m    706\u001b[0m elapsed \u001b[38;5;241m=\u001b[39m preferred_clock() \u001b[38;5;241m-\u001b[39m start\n",
      "File \u001b[1;32mc:\\Users\\SiBuX\\AppData\\Local\\Programs\\Python\\Python310\\lib\\site-packages\\requests\\adapters.py:486\u001b[0m, in \u001b[0;36mHTTPAdapter.send\u001b[1;34m(self, request, stream, timeout, verify, cert, proxies)\u001b[0m\n\u001b[0;32m    483\u001b[0m     timeout \u001b[38;5;241m=\u001b[39m TimeoutSauce(connect\u001b[38;5;241m=\u001b[39mtimeout, read\u001b[38;5;241m=\u001b[39mtimeout)\n\u001b[0;32m    485\u001b[0m \u001b[38;5;28;01mtry\u001b[39;00m:\n\u001b[1;32m--> 486\u001b[0m     resp \u001b[38;5;241m=\u001b[39m \u001b[43mconn\u001b[49m\u001b[38;5;241;43m.\u001b[39;49m\u001b[43murlopen\u001b[49m\u001b[43m(\u001b[49m\n\u001b[0;32m    487\u001b[0m \u001b[43m        \u001b[49m\u001b[43mmethod\u001b[49m\u001b[38;5;241;43m=\u001b[39;49m\u001b[43mrequest\u001b[49m\u001b[38;5;241;43m.\u001b[39;49m\u001b[43mmethod\u001b[49m\u001b[43m,\u001b[49m\n\u001b[0;32m    488\u001b[0m \u001b[43m        \u001b[49m\u001b[43murl\u001b[49m\u001b[38;5;241;43m=\u001b[39;49m\u001b[43murl\u001b[49m\u001b[43m,\u001b[49m\n\u001b[0;32m    489\u001b[0m \u001b[43m        \u001b[49m\u001b[43mbody\u001b[49m\u001b[38;5;241;43m=\u001b[39;49m\u001b[43mrequest\u001b[49m\u001b[38;5;241;43m.\u001b[39;49m\u001b[43mbody\u001b[49m\u001b[43m,\u001b[49m\n\u001b[0;32m    490\u001b[0m \u001b[43m        \u001b[49m\u001b[43mheaders\u001b[49m\u001b[38;5;241;43m=\u001b[39;49m\u001b[43mrequest\u001b[49m\u001b[38;5;241;43m.\u001b[39;49m\u001b[43mheaders\u001b[49m\u001b[43m,\u001b[49m\n\u001b[0;32m    491\u001b[0m \u001b[43m        \u001b[49m\u001b[43mredirect\u001b[49m\u001b[38;5;241;43m=\u001b[39;49m\u001b[38;5;28;43;01mFalse\u001b[39;49;00m\u001b[43m,\u001b[49m\n\u001b[0;32m    492\u001b[0m \u001b[43m        \u001b[49m\u001b[43massert_same_host\u001b[49m\u001b[38;5;241;43m=\u001b[39;49m\u001b[38;5;28;43;01mFalse\u001b[39;49;00m\u001b[43m,\u001b[49m\n\u001b[0;32m    493\u001b[0m \u001b[43m        \u001b[49m\u001b[43mpreload_content\u001b[49m\u001b[38;5;241;43m=\u001b[39;49m\u001b[38;5;28;43;01mFalse\u001b[39;49;00m\u001b[43m,\u001b[49m\n\u001b[0;32m    494\u001b[0m \u001b[43m        \u001b[49m\u001b[43mdecode_content\u001b[49m\u001b[38;5;241;43m=\u001b[39;49m\u001b[38;5;28;43;01mFalse\u001b[39;49;00m\u001b[43m,\u001b[49m\n\u001b[0;32m    495\u001b[0m \u001b[43m        \u001b[49m\u001b[43mretries\u001b[49m\u001b[38;5;241;43m=\u001b[39;49m\u001b[38;5;28;43mself\u001b[39;49m\u001b[38;5;241;43m.\u001b[39;49m\u001b[43mmax_retries\u001b[49m\u001b[43m,\u001b[49m\n\u001b[0;32m    496\u001b[0m \u001b[43m        \u001b[49m\u001b[43mtimeout\u001b[49m\u001b[38;5;241;43m=\u001b[39;49m\u001b[43mtimeout\u001b[49m\u001b[43m,\u001b[49m\n\u001b[0;32m    497\u001b[0m \u001b[43m        \u001b[49m\u001b[43mchunked\u001b[49m\u001b[38;5;241;43m=\u001b[39;49m\u001b[43mchunked\u001b[49m\u001b[43m,\u001b[49m\n\u001b[0;32m    498\u001b[0m \u001b[43m    \u001b[49m\u001b[43m)\u001b[49m\n\u001b[0;32m    500\u001b[0m \u001b[38;5;28;01mexcept\u001b[39;00m (ProtocolError, \u001b[38;5;167;01mOSError\u001b[39;00m) \u001b[38;5;28;01mas\u001b[39;00m err:\n\u001b[0;32m    501\u001b[0m     \u001b[38;5;28;01mraise\u001b[39;00m \u001b[38;5;167;01mConnectionError\u001b[39;00m(err, request\u001b[38;5;241m=\u001b[39mrequest)\n",
      "File \u001b[1;32mc:\\Users\\SiBuX\\AppData\\Local\\Programs\\Python\\Python310\\lib\\site-packages\\urllib3\\connectionpool.py:715\u001b[0m, in \u001b[0;36mHTTPConnectionPool.urlopen\u001b[1;34m(self, method, url, body, headers, retries, redirect, assert_same_host, timeout, pool_timeout, release_conn, chunked, body_pos, **response_kw)\u001b[0m\n\u001b[0;32m    712\u001b[0m     \u001b[38;5;28mself\u001b[39m\u001b[38;5;241m.\u001b[39m_prepare_proxy(conn)\n\u001b[0;32m    714\u001b[0m \u001b[38;5;66;03m# Make the request on the httplib connection object.\u001b[39;00m\n\u001b[1;32m--> 715\u001b[0m httplib_response \u001b[38;5;241m=\u001b[39m \u001b[38;5;28;43mself\u001b[39;49m\u001b[38;5;241;43m.\u001b[39;49m\u001b[43m_make_request\u001b[49m\u001b[43m(\u001b[49m\n\u001b[0;32m    716\u001b[0m \u001b[43m    \u001b[49m\u001b[43mconn\u001b[49m\u001b[43m,\u001b[49m\n\u001b[0;32m    717\u001b[0m \u001b[43m    \u001b[49m\u001b[43mmethod\u001b[49m\u001b[43m,\u001b[49m\n\u001b[0;32m    718\u001b[0m \u001b[43m    \u001b[49m\u001b[43murl\u001b[49m\u001b[43m,\u001b[49m\n\u001b[0;32m    719\u001b[0m \u001b[43m    \u001b[49m\u001b[43mtimeout\u001b[49m\u001b[38;5;241;43m=\u001b[39;49m\u001b[43mtimeout_obj\u001b[49m\u001b[43m,\u001b[49m\n\u001b[0;32m    720\u001b[0m \u001b[43m    \u001b[49m\u001b[43mbody\u001b[49m\u001b[38;5;241;43m=\u001b[39;49m\u001b[43mbody\u001b[49m\u001b[43m,\u001b[49m\n\u001b[0;32m    721\u001b[0m \u001b[43m    \u001b[49m\u001b[43mheaders\u001b[49m\u001b[38;5;241;43m=\u001b[39;49m\u001b[43mheaders\u001b[49m\u001b[43m,\u001b[49m\n\u001b[0;32m    722\u001b[0m \u001b[43m    \u001b[49m\u001b[43mchunked\u001b[49m\u001b[38;5;241;43m=\u001b[39;49m\u001b[43mchunked\u001b[49m\u001b[43m,\u001b[49m\n\u001b[0;32m    723\u001b[0m \u001b[43m\u001b[49m\u001b[43m)\u001b[49m\n\u001b[0;32m    725\u001b[0m \u001b[38;5;66;03m# If we're going to release the connection in ``finally:``, then\u001b[39;00m\n\u001b[0;32m    726\u001b[0m \u001b[38;5;66;03m# the response doesn't need to know about the connection. Otherwise\u001b[39;00m\n\u001b[0;32m    727\u001b[0m \u001b[38;5;66;03m# it will also try to release it and we'll have a double-release\u001b[39;00m\n\u001b[0;32m    728\u001b[0m \u001b[38;5;66;03m# mess.\u001b[39;00m\n\u001b[0;32m    729\u001b[0m response_conn \u001b[38;5;241m=\u001b[39m conn \u001b[38;5;28;01mif\u001b[39;00m \u001b[38;5;129;01mnot\u001b[39;00m release_conn \u001b[38;5;28;01melse\u001b[39;00m \u001b[38;5;28;01mNone\u001b[39;00m\n",
      "File \u001b[1;32mc:\\Users\\SiBuX\\AppData\\Local\\Programs\\Python\\Python310\\lib\\site-packages\\urllib3\\connectionpool.py:404\u001b[0m, in \u001b[0;36mHTTPConnectionPool._make_request\u001b[1;34m(self, conn, method, url, timeout, chunked, **httplib_request_kw)\u001b[0m\n\u001b[0;32m    402\u001b[0m \u001b[38;5;66;03m# Trigger any extra validation we need to do.\u001b[39;00m\n\u001b[0;32m    403\u001b[0m \u001b[38;5;28;01mtry\u001b[39;00m:\n\u001b[1;32m--> 404\u001b[0m     \u001b[38;5;28;43mself\u001b[39;49m\u001b[38;5;241;43m.\u001b[39;49m\u001b[43m_validate_conn\u001b[49m\u001b[43m(\u001b[49m\u001b[43mconn\u001b[49m\u001b[43m)\u001b[49m\n\u001b[0;32m    405\u001b[0m \u001b[38;5;28;01mexcept\u001b[39;00m (SocketTimeout, BaseSSLError) \u001b[38;5;28;01mas\u001b[39;00m e:\n\u001b[0;32m    406\u001b[0m     \u001b[38;5;66;03m# Py2 raises this as a BaseSSLError, Py3 raises it as socket timeout.\u001b[39;00m\n\u001b[0;32m    407\u001b[0m     \u001b[38;5;28mself\u001b[39m\u001b[38;5;241m.\u001b[39m_raise_timeout(err\u001b[38;5;241m=\u001b[39me, url\u001b[38;5;241m=\u001b[39murl, timeout_value\u001b[38;5;241m=\u001b[39mconn\u001b[38;5;241m.\u001b[39mtimeout)\n",
      "File \u001b[1;32mc:\\Users\\SiBuX\\AppData\\Local\\Programs\\Python\\Python310\\lib\\site-packages\\urllib3\\connectionpool.py:1058\u001b[0m, in \u001b[0;36mHTTPSConnectionPool._validate_conn\u001b[1;34m(self, conn)\u001b[0m\n\u001b[0;32m   1056\u001b[0m \u001b[38;5;66;03m# Force connect early to allow us to validate the connection.\u001b[39;00m\n\u001b[0;32m   1057\u001b[0m \u001b[38;5;28;01mif\u001b[39;00m \u001b[38;5;129;01mnot\u001b[39;00m \u001b[38;5;28mgetattr\u001b[39m(conn, \u001b[38;5;124m\"\u001b[39m\u001b[38;5;124msock\u001b[39m\u001b[38;5;124m\"\u001b[39m, \u001b[38;5;28;01mNone\u001b[39;00m):  \u001b[38;5;66;03m# AppEngine might not have  `.sock`\u001b[39;00m\n\u001b[1;32m-> 1058\u001b[0m     \u001b[43mconn\u001b[49m\u001b[38;5;241;43m.\u001b[39;49m\u001b[43mconnect\u001b[49m\u001b[43m(\u001b[49m\u001b[43m)\u001b[49m\n\u001b[0;32m   1060\u001b[0m \u001b[38;5;28;01mif\u001b[39;00m \u001b[38;5;129;01mnot\u001b[39;00m conn\u001b[38;5;241m.\u001b[39mis_verified:\n\u001b[0;32m   1061\u001b[0m     warnings\u001b[38;5;241m.\u001b[39mwarn(\n\u001b[0;32m   1062\u001b[0m         (\n\u001b[0;32m   1063\u001b[0m             \u001b[38;5;124m\"\u001b[39m\u001b[38;5;124mUnverified HTTPS request is being made to host \u001b[39m\u001b[38;5;124m'\u001b[39m\u001b[38;5;132;01m%s\u001b[39;00m\u001b[38;5;124m'\u001b[39m\u001b[38;5;124m. \u001b[39m\u001b[38;5;124m\"\u001b[39m\n\u001b[1;32m   (...)\u001b[0m\n\u001b[0;32m   1068\u001b[0m         InsecureRequestWarning,\n\u001b[0;32m   1069\u001b[0m     )\n",
      "File \u001b[1;32mc:\\Users\\SiBuX\\AppData\\Local\\Programs\\Python\\Python310\\lib\\site-packages\\urllib3\\connection.py:419\u001b[0m, in \u001b[0;36mHTTPSConnection.connect\u001b[1;34m(self)\u001b[0m\n\u001b[0;32m    410\u001b[0m \u001b[38;5;28;01mif\u001b[39;00m (\n\u001b[0;32m    411\u001b[0m     \u001b[38;5;129;01mnot\u001b[39;00m \u001b[38;5;28mself\u001b[39m\u001b[38;5;241m.\u001b[39mca_certs\n\u001b[0;32m    412\u001b[0m     \u001b[38;5;129;01mand\u001b[39;00m \u001b[38;5;129;01mnot\u001b[39;00m \u001b[38;5;28mself\u001b[39m\u001b[38;5;241m.\u001b[39mca_cert_dir\n\u001b[1;32m   (...)\u001b[0m\n\u001b[0;32m    415\u001b[0m     \u001b[38;5;129;01mand\u001b[39;00m \u001b[38;5;28mhasattr\u001b[39m(context, \u001b[38;5;124m\"\u001b[39m\u001b[38;5;124mload_default_certs\u001b[39m\u001b[38;5;124m\"\u001b[39m)\n\u001b[0;32m    416\u001b[0m ):\n\u001b[0;32m    417\u001b[0m     context\u001b[38;5;241m.\u001b[39mload_default_certs()\n\u001b[1;32m--> 419\u001b[0m \u001b[38;5;28mself\u001b[39m\u001b[38;5;241m.\u001b[39msock \u001b[38;5;241m=\u001b[39m \u001b[43mssl_wrap_socket\u001b[49m\u001b[43m(\u001b[49m\n\u001b[0;32m    420\u001b[0m \u001b[43m    \u001b[49m\u001b[43msock\u001b[49m\u001b[38;5;241;43m=\u001b[39;49m\u001b[43mconn\u001b[49m\u001b[43m,\u001b[49m\n\u001b[0;32m    421\u001b[0m \u001b[43m    \u001b[49m\u001b[43mkeyfile\u001b[49m\u001b[38;5;241;43m=\u001b[39;49m\u001b[38;5;28;43mself\u001b[39;49m\u001b[38;5;241;43m.\u001b[39;49m\u001b[43mkey_file\u001b[49m\u001b[43m,\u001b[49m\n\u001b[0;32m    422\u001b[0m \u001b[43m    \u001b[49m\u001b[43mcertfile\u001b[49m\u001b[38;5;241;43m=\u001b[39;49m\u001b[38;5;28;43mself\u001b[39;49m\u001b[38;5;241;43m.\u001b[39;49m\u001b[43mcert_file\u001b[49m\u001b[43m,\u001b[49m\n\u001b[0;32m    423\u001b[0m \u001b[43m    \u001b[49m\u001b[43mkey_password\u001b[49m\u001b[38;5;241;43m=\u001b[39;49m\u001b[38;5;28;43mself\u001b[39;49m\u001b[38;5;241;43m.\u001b[39;49m\u001b[43mkey_password\u001b[49m\u001b[43m,\u001b[49m\n\u001b[0;32m    424\u001b[0m \u001b[43m    \u001b[49m\u001b[43mca_certs\u001b[49m\u001b[38;5;241;43m=\u001b[39;49m\u001b[38;5;28;43mself\u001b[39;49m\u001b[38;5;241;43m.\u001b[39;49m\u001b[43mca_certs\u001b[49m\u001b[43m,\u001b[49m\n\u001b[0;32m    425\u001b[0m \u001b[43m    \u001b[49m\u001b[43mca_cert_dir\u001b[49m\u001b[38;5;241;43m=\u001b[39;49m\u001b[38;5;28;43mself\u001b[39;49m\u001b[38;5;241;43m.\u001b[39;49m\u001b[43mca_cert_dir\u001b[49m\u001b[43m,\u001b[49m\n\u001b[0;32m    426\u001b[0m \u001b[43m    \u001b[49m\u001b[43mca_cert_data\u001b[49m\u001b[38;5;241;43m=\u001b[39;49m\u001b[38;5;28;43mself\u001b[39;49m\u001b[38;5;241;43m.\u001b[39;49m\u001b[43mca_cert_data\u001b[49m\u001b[43m,\u001b[49m\n\u001b[0;32m    427\u001b[0m \u001b[43m    \u001b[49m\u001b[43mserver_hostname\u001b[49m\u001b[38;5;241;43m=\u001b[39;49m\u001b[43mserver_hostname\u001b[49m\u001b[43m,\u001b[49m\n\u001b[0;32m    428\u001b[0m \u001b[43m    \u001b[49m\u001b[43mssl_context\u001b[49m\u001b[38;5;241;43m=\u001b[39;49m\u001b[43mcontext\u001b[49m\u001b[43m,\u001b[49m\n\u001b[0;32m    429\u001b[0m \u001b[43m    \u001b[49m\u001b[43mtls_in_tls\u001b[49m\u001b[38;5;241;43m=\u001b[39;49m\u001b[43mtls_in_tls\u001b[49m\u001b[43m,\u001b[49m\n\u001b[0;32m    430\u001b[0m \u001b[43m\u001b[49m\u001b[43m)\u001b[49m\n\u001b[0;32m    432\u001b[0m \u001b[38;5;66;03m# If we're using all defaults and the connection\u001b[39;00m\n\u001b[0;32m    433\u001b[0m \u001b[38;5;66;03m# is TLSv1 or TLSv1.1 we throw a DeprecationWarning\u001b[39;00m\n\u001b[0;32m    434\u001b[0m \u001b[38;5;66;03m# for the host.\u001b[39;00m\n\u001b[0;32m    435\u001b[0m \u001b[38;5;28;01mif\u001b[39;00m (\n\u001b[0;32m    436\u001b[0m     default_ssl_context\n\u001b[0;32m    437\u001b[0m     \u001b[38;5;129;01mand\u001b[39;00m \u001b[38;5;28mself\u001b[39m\u001b[38;5;241m.\u001b[39mssl_version \u001b[38;5;129;01mis\u001b[39;00m \u001b[38;5;28;01mNone\u001b[39;00m\n\u001b[0;32m    438\u001b[0m     \u001b[38;5;129;01mand\u001b[39;00m \u001b[38;5;28mhasattr\u001b[39m(\u001b[38;5;28mself\u001b[39m\u001b[38;5;241m.\u001b[39msock, \u001b[38;5;124m\"\u001b[39m\u001b[38;5;124mversion\u001b[39m\u001b[38;5;124m\"\u001b[39m)\n\u001b[0;32m    439\u001b[0m     \u001b[38;5;129;01mand\u001b[39;00m \u001b[38;5;28mself\u001b[39m\u001b[38;5;241m.\u001b[39msock\u001b[38;5;241m.\u001b[39mversion() \u001b[38;5;129;01min\u001b[39;00m {\u001b[38;5;124m\"\u001b[39m\u001b[38;5;124mTLSv1\u001b[39m\u001b[38;5;124m\"\u001b[39m, \u001b[38;5;124m\"\u001b[39m\u001b[38;5;124mTLSv1.1\u001b[39m\u001b[38;5;124m\"\u001b[39m}\n\u001b[0;32m    440\u001b[0m ):\n",
      "File \u001b[1;32mc:\\Users\\SiBuX\\AppData\\Local\\Programs\\Python\\Python310\\lib\\site-packages\\urllib3\\util\\ssl_.py:449\u001b[0m, in \u001b[0;36mssl_wrap_socket\u001b[1;34m(sock, keyfile, certfile, cert_reqs, ca_certs, server_hostname, ssl_version, ciphers, ssl_context, ca_cert_dir, key_password, ca_cert_data, tls_in_tls)\u001b[0m\n\u001b[0;32m    437\u001b[0m     warnings\u001b[38;5;241m.\u001b[39mwarn(\n\u001b[0;32m    438\u001b[0m         \u001b[38;5;124m\"\u001b[39m\u001b[38;5;124mAn HTTPS request has been made, but the SNI (Server Name \u001b[39m\u001b[38;5;124m\"\u001b[39m\n\u001b[0;32m    439\u001b[0m         \u001b[38;5;124m\"\u001b[39m\u001b[38;5;124mIndication) extension to TLS is not available on this platform. \u001b[39m\u001b[38;5;124m\"\u001b[39m\n\u001b[1;32m   (...)\u001b[0m\n\u001b[0;32m    445\u001b[0m         SNIMissingWarning,\n\u001b[0;32m    446\u001b[0m     )\n\u001b[0;32m    448\u001b[0m \u001b[38;5;28;01mif\u001b[39;00m send_sni:\n\u001b[1;32m--> 449\u001b[0m     ssl_sock \u001b[38;5;241m=\u001b[39m \u001b[43m_ssl_wrap_socket_impl\u001b[49m\u001b[43m(\u001b[49m\n\u001b[0;32m    450\u001b[0m \u001b[43m        \u001b[49m\u001b[43msock\u001b[49m\u001b[43m,\u001b[49m\u001b[43m \u001b[49m\u001b[43mcontext\u001b[49m\u001b[43m,\u001b[49m\u001b[43m \u001b[49m\u001b[43mtls_in_tls\u001b[49m\u001b[43m,\u001b[49m\u001b[43m \u001b[49m\u001b[43mserver_hostname\u001b[49m\u001b[38;5;241;43m=\u001b[39;49m\u001b[43mserver_hostname\u001b[49m\n\u001b[0;32m    451\u001b[0m \u001b[43m    \u001b[49m\u001b[43m)\u001b[49m\n\u001b[0;32m    452\u001b[0m \u001b[38;5;28;01melse\u001b[39;00m:\n\u001b[0;32m    453\u001b[0m     ssl_sock \u001b[38;5;241m=\u001b[39m _ssl_wrap_socket_impl(sock, context, tls_in_tls)\n",
      "File \u001b[1;32mc:\\Users\\SiBuX\\AppData\\Local\\Programs\\Python\\Python310\\lib\\site-packages\\urllib3\\util\\ssl_.py:493\u001b[0m, in \u001b[0;36m_ssl_wrap_socket_impl\u001b[1;34m(sock, ssl_context, tls_in_tls, server_hostname)\u001b[0m\n\u001b[0;32m    490\u001b[0m     \u001b[38;5;28;01mreturn\u001b[39;00m SSLTransport(sock, ssl_context, server_hostname)\n\u001b[0;32m    492\u001b[0m \u001b[38;5;28;01mif\u001b[39;00m server_hostname:\n\u001b[1;32m--> 493\u001b[0m     \u001b[38;5;28;01mreturn\u001b[39;00m \u001b[43mssl_context\u001b[49m\u001b[38;5;241;43m.\u001b[39;49m\u001b[43mwrap_socket\u001b[49m\u001b[43m(\u001b[49m\u001b[43msock\u001b[49m\u001b[43m,\u001b[49m\u001b[43m \u001b[49m\u001b[43mserver_hostname\u001b[49m\u001b[38;5;241;43m=\u001b[39;49m\u001b[43mserver_hostname\u001b[49m\u001b[43m)\u001b[49m\n\u001b[0;32m    494\u001b[0m \u001b[38;5;28;01melse\u001b[39;00m:\n\u001b[0;32m    495\u001b[0m     \u001b[38;5;28;01mreturn\u001b[39;00m ssl_context\u001b[38;5;241m.\u001b[39mwrap_socket(sock)\n",
      "File \u001b[1;32mc:\\Users\\SiBuX\\AppData\\Local\\Programs\\Python\\Python310\\lib\\ssl.py:513\u001b[0m, in \u001b[0;36mSSLContext.wrap_socket\u001b[1;34m(self, sock, server_side, do_handshake_on_connect, suppress_ragged_eofs, server_hostname, session)\u001b[0m\n\u001b[0;32m    507\u001b[0m \u001b[38;5;28;01mdef\u001b[39;00m \u001b[38;5;21mwrap_socket\u001b[39m(\u001b[38;5;28mself\u001b[39m, sock, server_side\u001b[38;5;241m=\u001b[39m\u001b[38;5;28;01mFalse\u001b[39;00m,\n\u001b[0;32m    508\u001b[0m                 do_handshake_on_connect\u001b[38;5;241m=\u001b[39m\u001b[38;5;28;01mTrue\u001b[39;00m,\n\u001b[0;32m    509\u001b[0m                 suppress_ragged_eofs\u001b[38;5;241m=\u001b[39m\u001b[38;5;28;01mTrue\u001b[39;00m,\n\u001b[0;32m    510\u001b[0m                 server_hostname\u001b[38;5;241m=\u001b[39m\u001b[38;5;28;01mNone\u001b[39;00m, session\u001b[38;5;241m=\u001b[39m\u001b[38;5;28;01mNone\u001b[39;00m):\n\u001b[0;32m    511\u001b[0m     \u001b[38;5;66;03m# SSLSocket class handles server_hostname encoding before it calls\u001b[39;00m\n\u001b[0;32m    512\u001b[0m     \u001b[38;5;66;03m# ctx._wrap_socket()\u001b[39;00m\n\u001b[1;32m--> 513\u001b[0m     \u001b[38;5;28;01mreturn\u001b[39;00m \u001b[38;5;28;43mself\u001b[39;49m\u001b[38;5;241;43m.\u001b[39;49m\u001b[43msslsocket_class\u001b[49m\u001b[38;5;241;43m.\u001b[39;49m\u001b[43m_create\u001b[49m\u001b[43m(\u001b[49m\n\u001b[0;32m    514\u001b[0m \u001b[43m        \u001b[49m\u001b[43msock\u001b[49m\u001b[38;5;241;43m=\u001b[39;49m\u001b[43msock\u001b[49m\u001b[43m,\u001b[49m\n\u001b[0;32m    515\u001b[0m \u001b[43m        \u001b[49m\u001b[43mserver_side\u001b[49m\u001b[38;5;241;43m=\u001b[39;49m\u001b[43mserver_side\u001b[49m\u001b[43m,\u001b[49m\n\u001b[0;32m    516\u001b[0m \u001b[43m        \u001b[49m\u001b[43mdo_handshake_on_connect\u001b[49m\u001b[38;5;241;43m=\u001b[39;49m\u001b[43mdo_handshake_on_connect\u001b[49m\u001b[43m,\u001b[49m\n\u001b[0;32m    517\u001b[0m \u001b[43m        \u001b[49m\u001b[43msuppress_ragged_eofs\u001b[49m\u001b[38;5;241;43m=\u001b[39;49m\u001b[43msuppress_ragged_eofs\u001b[49m\u001b[43m,\u001b[49m\n\u001b[0;32m    518\u001b[0m \u001b[43m        \u001b[49m\u001b[43mserver_hostname\u001b[49m\u001b[38;5;241;43m=\u001b[39;49m\u001b[43mserver_hostname\u001b[49m\u001b[43m,\u001b[49m\n\u001b[0;32m    519\u001b[0m \u001b[43m        \u001b[49m\u001b[43mcontext\u001b[49m\u001b[38;5;241;43m=\u001b[39;49m\u001b[38;5;28;43mself\u001b[39;49m\u001b[43m,\u001b[49m\n\u001b[0;32m    520\u001b[0m \u001b[43m        \u001b[49m\u001b[43msession\u001b[49m\u001b[38;5;241;43m=\u001b[39;49m\u001b[43msession\u001b[49m\n\u001b[0;32m    521\u001b[0m \u001b[43m    \u001b[49m\u001b[43m)\u001b[49m\n",
      "File \u001b[1;32mc:\\Users\\SiBuX\\AppData\\Local\\Programs\\Python\\Python310\\lib\\ssl.py:1071\u001b[0m, in \u001b[0;36mSSLSocket._create\u001b[1;34m(cls, sock, server_side, do_handshake_on_connect, suppress_ragged_eofs, server_hostname, context, session)\u001b[0m\n\u001b[0;32m   1068\u001b[0m         \u001b[38;5;28;01mif\u001b[39;00m timeout \u001b[38;5;241m==\u001b[39m \u001b[38;5;241m0.0\u001b[39m:\n\u001b[0;32m   1069\u001b[0m             \u001b[38;5;66;03m# non-blocking\u001b[39;00m\n\u001b[0;32m   1070\u001b[0m             \u001b[38;5;28;01mraise\u001b[39;00m \u001b[38;5;167;01mValueError\u001b[39;00m(\u001b[38;5;124m\"\u001b[39m\u001b[38;5;124mdo_handshake_on_connect should not be specified for non-blocking sockets\u001b[39m\u001b[38;5;124m\"\u001b[39m)\n\u001b[1;32m-> 1071\u001b[0m         \u001b[38;5;28;43mself\u001b[39;49m\u001b[38;5;241;43m.\u001b[39;49m\u001b[43mdo_handshake\u001b[49m\u001b[43m(\u001b[49m\u001b[43m)\u001b[49m\n\u001b[0;32m   1072\u001b[0m \u001b[38;5;28;01mexcept\u001b[39;00m (\u001b[38;5;167;01mOSError\u001b[39;00m, \u001b[38;5;167;01mValueError\u001b[39;00m):\n\u001b[0;32m   1073\u001b[0m     \u001b[38;5;28mself\u001b[39m\u001b[38;5;241m.\u001b[39mclose()\n",
      "File \u001b[1;32mc:\\Users\\SiBuX\\AppData\\Local\\Programs\\Python\\Python310\\lib\\ssl.py:1342\u001b[0m, in \u001b[0;36mSSLSocket.do_handshake\u001b[1;34m(self, block)\u001b[0m\n\u001b[0;32m   1340\u001b[0m     \u001b[38;5;28;01mif\u001b[39;00m timeout \u001b[38;5;241m==\u001b[39m \u001b[38;5;241m0.0\u001b[39m \u001b[38;5;129;01mand\u001b[39;00m block:\n\u001b[0;32m   1341\u001b[0m         \u001b[38;5;28mself\u001b[39m\u001b[38;5;241m.\u001b[39msettimeout(\u001b[38;5;28;01mNone\u001b[39;00m)\n\u001b[1;32m-> 1342\u001b[0m     \u001b[38;5;28;43mself\u001b[39;49m\u001b[38;5;241;43m.\u001b[39;49m\u001b[43m_sslobj\u001b[49m\u001b[38;5;241;43m.\u001b[39;49m\u001b[43mdo_handshake\u001b[49m\u001b[43m(\u001b[49m\u001b[43m)\u001b[49m\n\u001b[0;32m   1343\u001b[0m \u001b[38;5;28;01mfinally\u001b[39;00m:\n\u001b[0;32m   1344\u001b[0m     \u001b[38;5;28mself\u001b[39m\u001b[38;5;241m.\u001b[39msettimeout(timeout)\n",
      "\u001b[1;31mKeyboardInterrupt\u001b[0m: "
     ]
    }
   ],
   "source": [
    "df = pd.read_csv('../../pairs.csv', header=None) \n",
    "\n",
    "list = df[1].tolist()\n",
    "\n",
    "for id in list:\n",
    "    drugbank_ids = get_drugbank_id_from_chembl(id)\n",
    "    print(drugbank_ids)"
   ]
  }
 ],
 "metadata": {
  "kernelspec": {
   "display_name": "Python 3",
   "language": "python",
   "name": "python3"
  },
  "language_info": {
   "codemirror_mode": {
    "name": "ipython",
    "version": 3
   },
   "file_extension": ".py",
   "mimetype": "text/x-python",
   "name": "python",
   "nbconvert_exporter": "python",
   "pygments_lexer": "ipython3",
   "version": "3.10.7"
  }
 },
 "nbformat": 4,
 "nbformat_minor": 2
}
