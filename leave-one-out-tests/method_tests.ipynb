{
 "cells": [
  {
   "cell_type": "code",
   "execution_count": 2,
   "metadata": {},
   "outputs": [],
   "source": [
    "import numpy as np\n",
    "import pandas as pd"
   ]
  },
  {
   "cell_type": "code",
   "execution_count": 3,
   "metadata": {},
   "outputs": [],
   "source": [
    "def sort_X_y_groups(X,y,groups):\n",
    "    sorted_indices = np.argsort(groups)\n",
    "    return X[sorted_indices], y[sorted_indices], groups[sorted_indices]"
   ]
  },
  {
   "cell_type": "code",
   "execution_count": 4,
   "metadata": {},
   "outputs": [],
   "source": [
    "from matplotlib.patches import Patch\n",
    "import matplotlib.pyplot as plt\n",
    "\n",
    "def plot_cv_indices(cv, X, y, group, ax, n_splits, lw=10):\n",
    "\n",
    "    for ii, (tr, tt) in enumerate(cv.split(X=X, y=y, groups=group)):\n",
    "        # Fill in indices with the training/test groups\n",
    "        indices = np.array([np.nan] * len(X))\n",
    "        indices[tt] = 1\n",
    "        indices[tr] = 0\n",
    "\n",
    "        ax.scatter(\n",
    "            range(len(indices)),\n",
    "            [ii + 0.5] * len(indices),\n",
    "            c=indices,\n",
    "            marker=\"_\",\n",
    "            lw=lw,\n",
    "            cmap=plt.cm.coolwarm,\n",
    "            vmin=-0.2,\n",
    "            vmax=1.2,\n",
    "        )\n",
    "\n",
    "    ax.scatter(\n",
    "        range(len(X)), [ii + 1.5] * len(X), c=y, marker=\"_\", lw=lw, cmap=plt.cm.tab20\n",
    "    )\n",
    "\n",
    "    ax.scatter(\n",
    "        range(len(X)), [ii + 2.5] * len(X), c=group, marker=\"_\", lw=lw, cmap=plt.cm.Set1\n",
    "    )\n",
    "\n",
    "    yticklabels = list(range(n_splits)) + [\"class\", \"group\"]\n",
    "    ax.set(\n",
    "        yticks=np.arange(n_splits + 2) + 0.5,\n",
    "        yticklabels=yticklabels,\n",
    "        xlabel=\"Sample index\",\n",
    "        ylabel=\"CV iteration\",\n",
    "        ylim=[n_splits + 2.2, -0.2],\n",
    "    )\n",
    "    ax.set_title(\"{}\".format(type(cv).__name__), fontsize=15)\n",
    "    cmap_cv = plt.cm.coolwarm\n",
    "    ax.legend(\n",
    "        [Patch(color=cmap_cv(0.8)), Patch(color=cmap_cv(0.02))],\n",
    "        [\"Testing set\", \"Training set\"],\n",
    "        loc=(1.02, 0.8),\n",
    "    )\n",
    "    # Make the legend fit\n",
    "    plt.tight_layout()\n",
    "    fig.subplots_adjust(right=0.7)\n",
    "    return ax"
   ]
  },
  {
   "cell_type": "code",
   "execution_count": 5,
   "metadata": {},
   "outputs": [
    {
     "name": "stdout",
     "output_type": "stream",
     "text": [
      "Sorted X: [ 10  70   5  80  50   1  10  60 130 120 110 100  90  80  70  60  50  40\n",
      "  30  20]\n",
      "Sorted y: [0 1 1 1 1 0 1 1 1 0 0 0 0 0 0 0 1 1 0 0]\n",
      "Sorted groups: [ 0  0  1  2  2  3  3  3  4  5  6  7  8  9 10 11 12 13 14 15]\n"
     ]
    },
    {
     "data": {
      "image/png": "[encoded data removed]",
      "text/plain": [
       "<Figure size 500x500 with 1 Axes>"
      ]
     },
     "metadata": {},
     "output_type": "display_data"
    },
    {
     "name": "stdout",
     "output_type": "stream",
     "text": [
      "[(array([ 2,  3,  4,  5,  6,  7,  8,  9, 10, 11, 12, 13, 14, 15, 16, 17, 18,\n",
      "       19]), array([0, 1]), 0), (array([ 0,  1,  3,  4,  5,  6,  7,  8,  9, 10, 11, 12, 13, 14, 15, 16, 17,\n",
      "       18, 19]), array([2]), 1), (array([ 0,  1,  2,  5,  6,  7,  8,  9, 10, 11, 12, 13, 14, 15, 16, 17, 18,\n",
      "       19]), array([3, 4]), 2), (array([ 0,  1,  2,  3,  4,  8,  9, 10, 11, 12, 13, 14, 15, 16, 17, 18, 19]), array([5, 6, 7]), 3), (array([ 0,  1,  2,  3,  4,  5,  6,  7,  9, 10, 11, 12, 13, 14, 15, 16, 17,\n",
      "       18, 19]), array([8]), 4), (array([ 0,  1,  2,  3,  4,  5,  6,  7,  8, 10, 11, 12, 13, 14, 15, 16, 17,\n",
      "       18, 19]), array([9]), 5), (array([ 0,  1,  2,  3,  4,  5,  6,  7,  8,  9, 11, 12, 13, 14, 15, 16, 17,\n",
      "       18, 19]), array([10]), 6), (array([ 0,  1,  2,  3,  4,  5,  6,  7,  8,  9, 10, 12, 13, 14, 15, 16, 17,\n",
      "       18, 19]), array([11]), 7), (array([ 0,  1,  2,  3,  4,  5,  6,  7,  8,  9, 10, 11, 13, 14, 15, 16, 17,\n",
      "       18, 19]), array([12]), 8), (array([ 0,  1,  2,  3,  4,  5,  6,  7,  8,  9, 10, 11, 12, 14, 15, 16, 17,\n",
      "       18, 19]), array([13]), 9), (array([ 0,  1,  2,  3,  4,  5,  6,  7,  8,  9, 10, 11, 12, 13, 15, 16, 17,\n",
      "       18, 19]), array([14]), 10), (array([ 0,  1,  2,  3,  4,  5,  6,  7,  8,  9, 10, 11, 12, 13, 14, 16, 17,\n",
      "       18, 19]), array([15]), 11), (array([ 0,  1,  2,  3,  4,  5,  6,  7,  8,  9, 10, 11, 12, 13, 14, 15, 17,\n",
      "       18, 19]), array([16]), 12), (array([ 0,  1,  2,  3,  4,  5,  6,  7,  8,  9, 10, 11, 12, 13, 14, 15, 16,\n",
      "       18, 19]), array([17]), 13), (array([ 0,  1,  2,  3,  4,  5,  6,  7,  8,  9, 10, 11, 12, 13, 14, 15, 16,\n",
      "       17, 19]), array([18]), 14), (array([ 0,  1,  2,  3,  4,  5,  6,  7,  8,  9, 10, 11, 12, 13, 14, 15, 16,\n",
      "       17, 18]), array([19]), 15)]\n"
     ]
    }
   ],
   "source": [
    "from sklearn.model_selection import LeaveOneGroupOut\n",
    "\n",
    "# Original arrays converted to numpy arrays\n",
    "X = np.array([1, 5, 10, 50, 60, 70, 80, 130, 120, 110, 100, 90, 80, 70, 60, 50, 40, 30, 20, 10])\n",
    "y = np.array([0, 1, 1, 1, 1, 1, 1, 1, 0, 0, 0, 0, 0, 0, 0, 1, 1, 0, 0, 0])\n",
    "groups = np.array([3, 1, 3, 2, 3, 0, 2, 4, 5, 6, 7, 8, 9, 10, 11, 12, 13, 14, 15, 0])\n",
    "\n",
    "#fig, ax = plt.subplots()\n",
    "\n",
    "fig, ax = plt.subplots(figsize=(5, 5))  # Set the figure size to 10x5 inches\n",
    "\n",
    "logo  = LeaveOneGroupOut()\n",
    "\n",
    "#find maximum values of groups\n",
    "X_sorted, y_sorted, groups_sorted = sort_X_y_groups(X, y, groups)\n",
    "\n",
    "print(\"Sorted X:\", X_sorted)\n",
    "print(\"Sorted y:\", y_sorted)\n",
    "print(\"Sorted groups:\", groups_sorted)\n",
    "\n",
    "plot_cv_indices(logo , X_sorted, y_sorted, groups_sorted, ax, np.max(groups)+1)\n",
    "filename = f'figure.png'\n",
    "#plt.savefig(filename)\n",
    "plt.show()\n",
    "\n",
    "cv = logo.split(X_sorted, y_sorted, groups_sorted)\n",
    "\n",
    "cv_list = [(train, test, k) for k, (train, test) in enumerate(cv)]\n",
    "print(cv_list)"
   ]
  },
  {
   "cell_type": "code",
   "execution_count": 6,
   "metadata": {},
   "outputs": [
    {
     "name": "stdout",
     "output_type": "stream",
     "text": [
      "[2 1 2 3 1 1 1 1 1 1 1 1 1 1 1 1]\n",
      "<class 'numpy.ndarray'>\n"
     ]
    }
   ],
   "source": [
    "def count_groups(groups):\n",
    "    max_group = groups.max()\n",
    "    group_counts = np.zeros(max_group + 1, dtype=int)\n",
    "    counts = np.bincount(groups)\n",
    "    group_counts[:len(counts)] = counts\n",
    "    return group_counts\n",
    "\n",
    "print(count_groups(np.asarray(groups)))\n",
    "print(type(count_groups(np.asarray(groups))))"
   ]
  },
  {
   "cell_type": "code",
   "execution_count": 7,
   "metadata": {},
   "outputs": [],
   "source": [
    "def get_included_claases_pairs(classes, pairs, groups, group_no_to_exclude):\n",
    "    mask = groups != group_no_to_exclude\n",
    "    classes_included = classes[mask]\n",
    "    pairs_included = pairs[mask]\n",
    "    return classes_included, pairs_included"
   ]
  },
  {
   "cell_type": "code",
   "execution_count": 8,
   "metadata": {},
   "outputs": [
    {
     "name": "stdout",
     "output_type": "stream",
     "text": [
      "Classes Included: [  5  50  70  80 130 120 110 100  90  80  70  60  50  40  30  20  10]\n",
      "Pairs Included: [1 1 1 1 1 0 0 0 0 0 0 0 1 1 0 0 0]\n"
     ]
    }
   ],
   "source": [
    "X = np.array([1, 5, 10, 50, 60, 70, 80, 130, 120, 110, 100, 90, 80, 70, 60, 50, 40, 30, 20, 10])\n",
    "y = np.array([0, 1, 1, 1, 1, 1, 1, 1, 0, 0, 0, 0, 0, 0, 0, 1, 1, 0, 0, 0])\n",
    "groups = np.array([3, 1, 3, 2, 3, 0, 2, 4, 5, 6, 7, 8, 9, 10, 11, 12, 13, 14, 15, 0])\n",
    "\n",
    "group_no_to_exclude = 3\n",
    "classes_included, pairs_included = get_included_claases_pairs(X, y, groups, group_no_to_exclude)\n",
    "print(\"Classes Included:\", classes_included)\n",
    "print(\"Pairs Included:\", pairs_included)"
   ]
  },
  {
   "cell_type": "code",
   "execution_count": 15,
   "metadata": {},
   "outputs": [],
   "source": [
    "def assign_groups(df, column_name):\n",
    "    atc_to_group = {}\n",
    "    group_id = 0\n",
    "    \n",
    "    for index, row in df.iterrows():\n",
    "        codes = row[column_name]\n",
    "        \n",
    "        if codes not in atc_to_group:\n",
    "            atc_to_group[codes] = group_id\n",
    "            group_id += 1\n",
    "        \n",
    "        df.at[index, 'group'] = atc_to_group[codes]\n",
    "    \n",
    "    return df"
   ]
  },
  {
   "cell_type": "code",
   "execution_count": 24,
   "metadata": {},
   "outputs": [],
   "source": [
    "def assign_groups(df, column_name):\n",
    "    atc_to_group = {}\n",
    "    group_id = 0\n",
    "    \n",
    "    for index, row in df.iterrows():\n",
    "        codes = row[column_name]\n",
    "        \n",
    "        if codes not in atc_to_group:\n",
    "            atc_to_group[codes] = group_id\n",
    "            group_id += 1\n",
    "        \n",
    "        df.at[index, 'group'] = atc_to_group[codes]\n",
    "    \n",
    "    # Inverting the dictionary to get group id as key and codes as value\n",
    "    group_to_atc = {v: k for k, v in atc_to_group.items()}\n",
    "    \n",
    "    return df, group_to_atc"
   ]
  },
  {
   "cell_type": "code",
   "execution_count": 27,
   "metadata": {},
   "outputs": [
    {
     "name": "stdout",
     "output_type": "stream",
     "text": [
      "C\n",
      "  group\n",
      "0     0\n",
      "1     1\n",
      "2     1\n",
      "3     2\n",
      "4     3\n",
      "5     1\n",
      "6     4\n",
      "{0: 'C', 1: 'A', 2: 'B', 3: 'D', 4: 'F'}\n"
     ]
    }
   ],
   "source": [
    "df = pd.DataFrame(['C', 'A', 'A', 'B', 'D', 'A', 'F'], columns=['group'])\n",
    "\n",
    "df_groups, group_to_atc = assign_groups(df, 'group')\n",
    "\n",
    "# get the atc code for group 1\n",
    "print(group_to_atc[0])\n",
    "\n",
    "#combined = pd.concat([df_groups, group_to_atc], axis=1)\n",
    "\n",
    "print(df_groups)\n",
    "\n",
    "print(group_to_atc)\n",
    "\n",
    "df_groups['group'] = df_groups['group'].astype(int)\n",
    "groups_array = df_groups['group'].values"
   ]
  },
  {
   "cell_type": "code",
   "execution_count": 5,
   "metadata": {},
   "outputs": [
    {
     "name": "stdout",
     "output_type": "stream",
     "text": [
      "[ 0  1  2  3  4  5  6  7  8  9 10 11 12 13 14 15 16 17 18 19 20 21 22 23\n",
      " 24 25 26 27 28 29 30 31 32 33 34 35 36 37 38 39 40 41]\n"
     ]
    }
   ],
   "source": [
    "group_numbers_to_exclude = np.array([i for i in range(42)])\n",
    "print(group_numbers_to_exclude)\n",
    "\n"
   ]
  },
  {
   "cell_type": "code",
   "execution_count": 6,
   "metadata": {},
   "outputs": [],
   "source": [
    "def count_groups(groups):\n",
    "    max_group = groups.max()\n",
    "    group_counts = np.zeros(max_group + 1, dtype=int)\n",
    "    counts = np.bincount(groups)\n",
    "    group_counts[:len(counts)] = counts\n",
    "    return group_counts"
   ]
  },
  {
   "cell_type": "code",
   "execution_count": 5,
   "metadata": {},
   "outputs": [],
   "source": [
    "def simplify_ec_number(ec):\n",
    "    parts = ec.split('.')\n",
    "    if ec.startswith('2.7.10'):\n",
    "        return '.'.join(parts[:5])\n",
    "    elif ec.startswith('2.7'):\n",
    "        return '.'.join(parts[:3])\n",
    "    elif ec.startswith('NONE'):\n",
    "        return 'NONE'\n",
    "    else:\n",
    "        return '.'.join(parts[:2])"
   ]
  },
  {
   "cell_type": "code",
   "execution_count": 9,
   "metadata": {},
   "outputs": [
    {
     "name": "stdout",
     "output_type": "stream",
     "text": [
      "df_pairs shape:  (200, 2)\n",
      "Index(['drug', 'target'], dtype='object')\n"
     ]
    },
    {
     "data": {
      "text/html": [
       "<div>\n",
       "<style scoped>\n",
       "    .dataframe tbody tr th:only-of-type {\n",
       "        vertical-align: middle;\n",
       "    }\n",
       "\n",
       "    .dataframe tbody tr th {\n",
       "        vertical-align: top;\n",
       "    }\n",
       "\n",
       "    .dataframe thead th {\n",
       "        text-align: right;\n",
       "    }\n",
       "</style>\n",
       "<table border=\"1\" class=\"dataframe\">\n",
       "  <thead>\n",
       "    <tr style=\"text-align: right;\">\n",
       "      <th></th>\n",
       "      <th>drug</th>\n",
       "      <th>target</th>\n",
       "    </tr>\n",
       "  </thead>\n",
       "  <tbody>\n",
       "    <tr>\n",
       "      <th>0</th>\n",
       "      <td>CHEMBL.COMPOUND:CHEMBL490</td>\n",
       "      <td>UniProtKB:P31645</td>\n",
       "    </tr>\n",
       "    <tr>\n",
       "      <th>1</th>\n",
       "      <td>CHEMBL.COMPOUND:CHEMBL742</td>\n",
       "      <td>UniProtKB:Q14957</td>\n",
       "    </tr>\n",
       "    <tr>\n",
       "      <th>2</th>\n",
       "      <td>CHEMBL.COMPOUND:CHEMBL1431</td>\n",
       "      <td>UniProtKB:Q86Y39</td>\n",
       "    </tr>\n",
       "    <tr>\n",
       "      <th>3</th>\n",
       "      <td>CHEMBL.COMPOUND:CHEMBL3545252</td>\n",
       "      <td>UniProtKB:Q3ZCM7</td>\n",
       "    </tr>\n",
       "    <tr>\n",
       "      <th>4</th>\n",
       "      <td>CHEMBL.COMPOUND:CHEMBL1117</td>\n",
       "      <td>UniProtKB:P11388</td>\n",
       "    </tr>\n",
       "  </tbody>\n",
       "</table>\n",
       "</div>"
      ],
      "text/plain": [
       "                            drug            target\n",
       "0      CHEMBL.COMPOUND:CHEMBL490  UniProtKB:P31645\n",
       "1      CHEMBL.COMPOUND:CHEMBL742  UniProtKB:Q14957\n",
       "2     CHEMBL.COMPOUND:CHEMBL1431  UniProtKB:Q86Y39\n",
       "3  CHEMBL.COMPOUND:CHEMBL3545252  UniProtKB:Q3ZCM7\n",
       "4     CHEMBL.COMPOUND:CHEMBL1117  UniProtKB:P11388"
      ]
     },
     "metadata": {},
     "output_type": "display_data"
    }
   ],
   "source": [
    "known_drugs_targets = pd.read_csv(\"../data/opentargets/known_drugs_targets.csv\")\n",
    "\n",
    "pairs = known_drugs_targets[['drug', 'target']].values[300:500]\n",
    "df_pairs = pd.DataFrame(pairs)\n",
    "df_pairs.columns = ['drug', 'target']\n",
    "print('df_pairs shape: ', df_pairs.shape)\n",
    "print(df_pairs.columns)\n",
    "display(df_pairs.head())"
   ]
  },
  {
   "cell_type": "code",
   "execution_count": 12,
   "metadata": {},
   "outputs": [
    {
     "name": "stdout",
     "output_type": "stream",
     "text": [
      "ec shape:  (251324, 2)\n",
      "Index(['simplified_ec_number', 'target'], dtype='object')\n"
     ]
    },
    {
     "data": {
      "text/html": [
       "<div>\n",
       "<style scoped>\n",
       "    .dataframe tbody tr th:only-of-type {\n",
       "        vertical-align: middle;\n",
       "    }\n",
       "\n",
       "    .dataframe tbody tr th {\n",
       "        vertical-align: top;\n",
       "    }\n",
       "\n",
       "    .dataframe thead th {\n",
       "        text-align: right;\n",
       "    }\n",
       "</style>\n",
       "<table border=\"1\" class=\"dataframe\">\n",
       "  <thead>\n",
       "    <tr style=\"text-align: right;\">\n",
       "      <th></th>\n",
       "      <th>simplified_ec_number</th>\n",
       "      <th>target</th>\n",
       "    </tr>\n",
       "  </thead>\n",
       "  <tbody>\n",
       "    <tr>\n",
       "      <th>0</th>\n",
       "      <td>7.1</td>\n",
       "      <td>UniProtKB:O75251</td>\n",
       "    </tr>\n",
       "    <tr>\n",
       "      <th>1</th>\n",
       "      <td>2.7.1</td>\n",
       "      <td>UniProtKB:P42336</td>\n",
       "    </tr>\n",
       "    <tr>\n",
       "      <th>2</th>\n",
       "      <td>2.7.10.1</td>\n",
       "      <td>UniProtKB:P09619</td>\n",
       "    </tr>\n",
       "    <tr>\n",
       "      <th>3</th>\n",
       "      <td>NONE</td>\n",
       "      <td>UniProtKB:Q8NER1</td>\n",
       "    </tr>\n",
       "    <tr>\n",
       "      <th>4</th>\n",
       "      <td>2.7.1</td>\n",
       "      <td>UniProtKB:O00329</td>\n",
       "    </tr>\n",
       "  </tbody>\n",
       "</table>\n",
       "</div>"
      ],
      "text/plain": [
       "  simplified_ec_number            target\n",
       "0                  7.1  UniProtKB:O75251\n",
       "1                2.7.1  UniProtKB:P42336\n",
       "2             2.7.10.1  UniProtKB:P09619\n",
       "3                 NONE  UniProtKB:Q8NER1\n",
       "4                2.7.1  UniProtKB:O00329"
      ]
     },
     "metadata": {},
     "output_type": "display_data"
    }
   ],
   "source": [
    "targets_ec_numbers = pd.read_csv(\"target_ec_numbers_05_07_2024.csv\")\n",
    "targets_ec_numbers['simplified_ec_number'] = targets_ec_numbers['target_ec_number'].apply(simplify_ec_number)\n",
    "targets_ec_numbers.columns = ['index', 'target_ec_number', 'simplified_ec_number']\n",
    "ec = pd.concat([targets_ec_numbers,known_drugs_targets], axis=1)\n",
    "ec = ec.drop(['index', 'target_ec_number', 'drug'], axis=1)\n",
    "print('ec shape: ', ec.shape)\n",
    "print(ec.columns)\n",
    "display(ec.head())"
   ]
  },
  {
   "cell_type": "code",
   "execution_count": 18,
   "metadata": {},
   "outputs": [
    {
     "data": {
      "text/html": [
       "<div>\n",
       "<style scoped>\n",
       "    .dataframe tbody tr th:only-of-type {\n",
       "        vertical-align: middle;\n",
       "    }\n",
       "\n",
       "    .dataframe tbody tr th {\n",
       "        vertical-align: top;\n",
       "    }\n",
       "\n",
       "    .dataframe thead th {\n",
       "        text-align: right;\n",
       "    }\n",
       "</style>\n",
       "<table border=\"1\" class=\"dataframe\">\n",
       "  <thead>\n",
       "    <tr style=\"text-align: right;\">\n",
       "      <th></th>\n",
       "      <th>simplified_ec_number</th>\n",
       "      <th>target</th>\n",
       "    </tr>\n",
       "  </thead>\n",
       "  <tbody>\n",
       "    <tr>\n",
       "      <th>0</th>\n",
       "      <td>7.1</td>\n",
       "      <td>UniProtKB:O75251</td>\n",
       "    </tr>\n",
       "    <tr>\n",
       "      <th>1</th>\n",
       "      <td>2.7.1</td>\n",
       "      <td>UniProtKB:P42336</td>\n",
       "    </tr>\n",
       "    <tr>\n",
       "      <th>2</th>\n",
       "      <td>2.7.10.1</td>\n",
       "      <td>UniProtKB:P09619</td>\n",
       "    </tr>\n",
       "    <tr>\n",
       "      <th>3</th>\n",
       "      <td>NONE</td>\n",
       "      <td>UniProtKB:Q8NER1</td>\n",
       "    </tr>\n",
       "    <tr>\n",
       "      <th>4</th>\n",
       "      <td>2.7.1</td>\n",
       "      <td>UniProtKB:O00329</td>\n",
       "    </tr>\n",
       "    <tr>\n",
       "      <th>...</th>\n",
       "      <td>...</td>\n",
       "      <td>...</td>\n",
       "    </tr>\n",
       "    <tr>\n",
       "      <th>213715</th>\n",
       "      <td>2.7.11</td>\n",
       "      <td>UniProtKB:Q15418</td>\n",
       "    </tr>\n",
       "    <tr>\n",
       "      <th>225254</th>\n",
       "      <td>2.7.11</td>\n",
       "      <td>UniProtKB:Q8IW41</td>\n",
       "    </tr>\n",
       "    <tr>\n",
       "      <th>235057</th>\n",
       "      <td>3.3</td>\n",
       "      <td>UniProtKB:P34913</td>\n",
       "    </tr>\n",
       "    <tr>\n",
       "      <th>236447</th>\n",
       "      <td>2.7.11</td>\n",
       "      <td>UniProtKB:P37023</td>\n",
       "    </tr>\n",
       "    <tr>\n",
       "      <th>244027</th>\n",
       "      <td>2.7.11</td>\n",
       "      <td>UniProtKB:P41279</td>\n",
       "    </tr>\n",
       "  </tbody>\n",
       "</table>\n",
       "<p>1156 rows × 2 columns</p>\n",
       "</div>"
      ],
      "text/plain": [
       "       simplified_ec_number            target\n",
       "0                       7.1  UniProtKB:O75251\n",
       "1                     2.7.1  UniProtKB:P42336\n",
       "2                  2.7.10.1  UniProtKB:P09619\n",
       "3                      NONE  UniProtKB:Q8NER1\n",
       "4                     2.7.1  UniProtKB:O00329\n",
       "...                     ...               ...\n",
       "213715               2.7.11  UniProtKB:Q15418\n",
       "225254               2.7.11  UniProtKB:Q8IW41\n",
       "235057                  3.3  UniProtKB:P34913\n",
       "236447               2.7.11  UniProtKB:P37023\n",
       "244027               2.7.11  UniProtKB:P41279\n",
       "\n",
       "[1156 rows x 2 columns]"
      ]
     },
     "metadata": {},
     "output_type": "display_data"
    },
    {
     "data": {
      "text/html": [
       "<div>\n",
       "<style scoped>\n",
       "    .dataframe tbody tr th:only-of-type {\n",
       "        vertical-align: middle;\n",
       "    }\n",
       "\n",
       "    .dataframe tbody tr th {\n",
       "        vertical-align: top;\n",
       "    }\n",
       "\n",
       "    .dataframe thead th {\n",
       "        text-align: right;\n",
       "    }\n",
       "</style>\n",
       "<table border=\"1\" class=\"dataframe\">\n",
       "  <thead>\n",
       "    <tr style=\"text-align: right;\">\n",
       "      <th></th>\n",
       "      <th>drug</th>\n",
       "      <th>target</th>\n",
       "      <th>simplified_ec_number</th>\n",
       "    </tr>\n",
       "  </thead>\n",
       "  <tbody>\n",
       "    <tr>\n",
       "      <th>0</th>\n",
       "      <td>CHEMBL.COMPOUND:CHEMBL490</td>\n",
       "      <td>UniProtKB:P31645</td>\n",
       "      <td>NONE</td>\n",
       "    </tr>\n",
       "    <tr>\n",
       "      <th>1</th>\n",
       "      <td>CHEMBL.COMPOUND:CHEMBL742</td>\n",
       "      <td>UniProtKB:Q14957</td>\n",
       "      <td>NONE</td>\n",
       "    </tr>\n",
       "    <tr>\n",
       "      <th>2</th>\n",
       "      <td>CHEMBL.COMPOUND:CHEMBL1431</td>\n",
       "      <td>UniProtKB:Q86Y39</td>\n",
       "      <td>NONE</td>\n",
       "    </tr>\n",
       "    <tr>\n",
       "      <th>3</th>\n",
       "      <td>CHEMBL.COMPOUND:CHEMBL3545252</td>\n",
       "      <td>UniProtKB:Q3ZCM7</td>\n",
       "      <td>NONE</td>\n",
       "    </tr>\n",
       "    <tr>\n",
       "      <th>4</th>\n",
       "      <td>CHEMBL.COMPOUND:CHEMBL1117</td>\n",
       "      <td>UniProtKB:P11388</td>\n",
       "      <td>5.6</td>\n",
       "    </tr>\n",
       "    <tr>\n",
       "      <th>...</th>\n",
       "      <td>...</td>\n",
       "      <td>...</td>\n",
       "      <td>...</td>\n",
       "    </tr>\n",
       "    <tr>\n",
       "      <th>195</th>\n",
       "      <td>CHEMBL.COMPOUND:CHEMBL1496</td>\n",
       "      <td>UniProtKB:P04035</td>\n",
       "      <td>1.1</td>\n",
       "    </tr>\n",
       "    <tr>\n",
       "      <th>196</th>\n",
       "      <td>CHEMBL.COMPOUND:CHEMBL25</td>\n",
       "      <td>UniProtKB:P35354</td>\n",
       "      <td>1.14</td>\n",
       "    </tr>\n",
       "    <tr>\n",
       "      <th>197</th>\n",
       "      <td>CHEMBL.COMPOUND:CHEMBL1200569</td>\n",
       "      <td>UniProtKB:P0DMS8</td>\n",
       "      <td>NONE</td>\n",
       "    </tr>\n",
       "    <tr>\n",
       "      <th>198</th>\n",
       "      <td>CHEMBL.COMPOUND:CHEMBL526</td>\n",
       "      <td>UniProtKB:P47870</td>\n",
       "      <td>NONE</td>\n",
       "    </tr>\n",
       "    <tr>\n",
       "      <th>199</th>\n",
       "      <td>CHEMBL.COMPOUND:CHEMBL193482</td>\n",
       "      <td>UniProtKB:Q92731</td>\n",
       "      <td>NONE</td>\n",
       "    </tr>\n",
       "  </tbody>\n",
       "</table>\n",
       "<p>200 rows × 3 columns</p>\n",
       "</div>"
      ],
      "text/plain": [
       "                              drug            target simplified_ec_number\n",
       "0        CHEMBL.COMPOUND:CHEMBL490  UniProtKB:P31645                 NONE\n",
       "1        CHEMBL.COMPOUND:CHEMBL742  UniProtKB:Q14957                 NONE\n",
       "2       CHEMBL.COMPOUND:CHEMBL1431  UniProtKB:Q86Y39                 NONE\n",
       "3    CHEMBL.COMPOUND:CHEMBL3545252  UniProtKB:Q3ZCM7                 NONE\n",
       "4       CHEMBL.COMPOUND:CHEMBL1117  UniProtKB:P11388                  5.6\n",
       "..                             ...               ...                  ...\n",
       "195     CHEMBL.COMPOUND:CHEMBL1496  UniProtKB:P04035                  1.1\n",
       "196       CHEMBL.COMPOUND:CHEMBL25  UniProtKB:P35354                 1.14\n",
       "197  CHEMBL.COMPOUND:CHEMBL1200569  UniProtKB:P0DMS8                 NONE\n",
       "198      CHEMBL.COMPOUND:CHEMBL526  UniProtKB:P47870                 NONE\n",
       "199   CHEMBL.COMPOUND:CHEMBL193482  UniProtKB:Q92731                 NONE\n",
       "\n",
       "[200 rows x 3 columns]"
      ]
     },
     "metadata": {},
     "output_type": "display_data"
    }
   ],
   "source": [
    "ec_unique = ec.drop_duplicates(subset=['target'], keep='first')\n",
    "display(ec_unique)\n",
    "result = pd.merge(df_pairs, ec_unique, on='target', how='left')\n",
    "display (result)"
   ]
  },
  {
   "cell_type": "code",
   "execution_count": 20,
   "metadata": {},
   "outputs": [
    {
     "name": "stdout",
     "output_type": "stream",
     "text": [
      "    simplified_ec_number\n",
      "0                   NONE\n",
      "1                   NONE\n",
      "2                   NONE\n",
      "3                   NONE\n",
      "4                    5.6\n",
      "..                   ...\n",
      "195                  1.1\n",
      "196                 1.14\n",
      "197                 NONE\n",
      "198                 NONE\n",
      "199                 NONE\n",
      "\n",
      "[200 rows x 1 columns]\n"
     ]
    }
   ],
   "source": [
    "targets_ec_numbers = pd.read_csv(\"target_ec_numbers_05_07_2024.csv\")\n",
    "targets_ec_numbers['simplified_ec_number'] = targets_ec_numbers['target_ec_number'].apply(simplify_ec_number)\n",
    "targets_ec_numbers.columns = ['index', 'target_ec_number', 'simplified_ec_number']\n",
    "ec = pd.concat([targets_ec_numbers,known_drugs_targets], axis=1)\n",
    "ec = ec.drop(['index', 'target_ec_number', 'drug'], axis=1)\n",
    "ec_unique = ec.drop_duplicates(subset=['target'], keep='first')\n",
    "pair_simplified_ec_numbers = pd.merge(df_pairs, ec_unique, on='target', how='left')\n",
    "pair_simplified_ec_numbers = pair_simplified_ec_numbers.drop(['target','drug'], axis=1)\n",
    "print(pair_simplified_ec_numbers)"
   ]
  }
 ],
 "metadata": {
  "kernelspec": {
   "display_name": "Python 3",
   "language": "python",
   "name": "python3"
  },
  "language_info": {
   "codemirror_mode": {
    "name": "ipython",
    "version": 3
   },
   "file_extension": ".py",
   "mimetype": "text/x-python",
   "name": "python",
   "nbconvert_exporter": "python",
   "pygments_lexer": "ipython3",
   "version": "3.10.7"
  }
 },
 "nbformat": 4,
 "nbformat_minor": 2
}
